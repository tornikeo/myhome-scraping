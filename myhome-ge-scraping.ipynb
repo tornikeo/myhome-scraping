{
 "cells": [
  {
   "cell_type": "code",
   "execution_count": 1,
   "id": "46a4bd0a",
   "metadata": {
    "_cell_guid": "b1076dfc-b9ad-4769-8c92-a6c4dae69d19",
    "_uuid": "8f2839f25d086af736a60e9eeb907d3b93b6e0e5",
    "execution": {
     "iopub.execute_input": "2022-06-03T19:09:32.341690Z",
     "iopub.status.busy": "2022-06-03T19:09:32.340802Z",
     "iopub.status.idle": "2022-06-03T19:09:32.353726Z",
     "shell.execute_reply": "2022-06-03T19:09:32.352605Z"
    },
    "papermill": {
     "duration": 0.01973,
     "end_time": "2022-06-03T19:09:32.356079",
     "exception": false,
     "start_time": "2022-06-03T19:09:32.336349",
     "status": "completed"
    },
    "tags": []
   },
   "outputs": [],
   "source": [
    "import numpy as np # linear algebra\n",
    "import pandas as pd # data processing, CSV file I/O (e.g. pd.read_csv)"
   ]
  },
  {
   "cell_type": "code",
   "execution_count": 2,
   "id": "4e390d57",
   "metadata": {
    "execution": {
     "iopub.execute_input": "2022-06-03T19:09:32.361812Z",
     "iopub.status.busy": "2022-06-03T19:09:32.361420Z",
     "iopub.status.idle": "2022-06-03T19:09:32.582098Z",
     "shell.execute_reply": "2022-06-03T19:09:32.580985Z"
    },
    "papermill": {
     "duration": 0.226369,
     "end_time": "2022-06-03T19:09:32.584590",
     "exception": false,
     "start_time": "2022-06-03T19:09:32.358221",
     "status": "completed"
    },
    "tags": []
   },
   "outputs": [],
   "source": [
    "import bs4"
   ]
  },
  {
   "cell_type": "code",
   "execution_count": 3,
   "id": "b4f60229",
   "metadata": {
    "execution": {
     "iopub.execute_input": "2022-06-03T19:09:32.590661Z",
     "iopub.status.busy": "2022-06-03T19:09:32.590251Z",
     "iopub.status.idle": "2022-06-03T19:09:32.598809Z",
     "shell.execute_reply": "2022-06-03T19:09:32.597598Z"
    },
    "papermill": {
     "duration": 0.015231,
     "end_time": "2022-06-03T19:09:32.601887",
     "exception": false,
     "start_time": "2022-06-03T19:09:32.586656",
     "status": "completed"
    },
    "tags": []
   },
   "outputs": [
    {
     "data": {
      "text/plain": [
       "<module 'bs4' from '/opt/conda/lib/python3.7/site-packages/bs4/__init__.py'>"
      ]
     },
     "execution_count": 3,
     "metadata": {},
     "output_type": "execute_result"
    }
   ],
   "source": [
    "bs4"
   ]
  }
 ],
 "metadata": {
  "kernelspec": {
   "display_name": "Python 3",
   "language": "python",
   "name": "python3"
  },
  "language_info": {
   "codemirror_mode": {
    "name": "ipython",
    "version": 3
   },
   "file_extension": ".py",
   "mimetype": "text/x-python",
   "name": "python",
   "nbconvert_exporter": "python",
   "pygments_lexer": "ipython3",
   "version": "3.7.12"
  },
  "papermill": {
   "default_parameters": {},
   "duration": 11.588914,
   "end_time": "2022-06-03T19:09:33.225039",
   "environment_variables": {},
   "exception": null,
   "input_path": "__notebook__.ipynb",
   "output_path": "__notebook__.ipynb",
   "parameters": {},
   "start_time": "2022-06-03T19:09:21.636125",
   "version": "2.3.4"
  }
 },
 "nbformat": 4,
 "nbformat_minor": 5
}
