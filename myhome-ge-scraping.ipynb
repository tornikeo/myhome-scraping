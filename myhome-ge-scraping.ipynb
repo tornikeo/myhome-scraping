{
 "cells": [
  {
   "cell_type": "code",
   "execution_count": 1,
   "id": "78f4c2d1",
   "metadata": {
    "_cell_guid": "b1076dfc-b9ad-4769-8c92-a6c4dae69d19",
    "_uuid": "8f2839f25d086af736a60e9eeb907d3b93b6e0e5",
    "execution": {
     "iopub.execute_input": "2022-06-02T15:14:39.297741Z",
     "iopub.status.busy": "2022-06-02T15:14:39.297239Z",
     "iopub.status.idle": "2022-06-02T15:14:39.308776Z",
     "shell.execute_reply": "2022-06-02T15:14:39.307806Z"
    },
    "papermill": {
     "duration": 0.018198,
     "end_time": "2022-06-02T15:14:39.311234",
     "exception": false,
     "start_time": "2022-06-02T15:14:39.293036",
     "status": "completed"
    },
    "tags": []
   },
   "outputs": [],
   "source": [
    "import numpy as np # linear algebra\n",
    "import pandas as pd # data processing, CSV file I/O (e.g. pd.read_csv)"
   ]
  },
  {
   "cell_type": "code",
   "execution_count": 2,
   "id": "f6dd0148",
   "metadata": {
    "execution": {
     "iopub.execute_input": "2022-06-02T15:14:39.316685Z",
     "iopub.status.busy": "2022-06-02T15:14:39.316272Z",
     "iopub.status.idle": "2022-06-02T15:14:39.542256Z",
     "shell.execute_reply": "2022-06-02T15:14:39.541086Z"
    },
    "papermill": {
     "duration": 0.231514,
     "end_time": "2022-06-02T15:14:39.544820",
     "exception": false,
     "start_time": "2022-06-02T15:14:39.313306",
     "status": "completed"
    },
    "tags": []
   },
   "outputs": [],
   "source": [
    "import bs4"
   ]
  }
 ],
 "metadata": {
  "kernelspec": {
   "display_name": "Python 3",
   "language": "python",
   "name": "python3"
  },
  "language_info": {
   "codemirror_mode": {
    "name": "ipython",
    "version": 3
   },
   "file_extension": ".py",
   "mimetype": "text/x-python",
   "name": "python",
   "nbconvert_exporter": "python",
   "pygments_lexer": "ipython3",
   "version": "3.7.12"
  },
  "papermill": {
   "default_parameters": {},
   "duration": 12.014907,
   "end_time": "2022-06-02T15:14:40.269204",
   "environment_variables": {},
   "exception": null,
   "input_path": "__notebook__.ipynb",
   "output_path": "__notebook__.ipynb",
   "parameters": {},
   "start_time": "2022-06-02T15:14:28.254297",
   "version": "2.3.4"
  }
 },
 "nbformat": 4,
 "nbformat_minor": 5
}
