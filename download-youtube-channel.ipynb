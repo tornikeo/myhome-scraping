{
 "cells": [
  {
   "cell_type": "markdown",
   "id": "908b91cf",
   "metadata": {
    "papermill": {
     "duration": 0.005001,
     "end_time": "2022-06-22T14:48:22.914058",
     "exception": false,
     "start_time": "2022-06-22T14:48:22.909057",
     "status": "completed"
    },
    "tags": []
   },
   "source": [
    "# Dowload entire youtube channel like a pro(grammer)\n",
    "\n",
    "This notebook will download all the contents from a specified youtube channel URL. Sorted in the most-to-least viewed fashion, with a limit of N downloads. "
   ]
  },
  {
   "cell_type": "code",
   "execution_count": 1,
   "id": "926b9bc3",
   "metadata": {
    "execution": {
     "iopub.execute_input": "2022-06-22T14:48:22.926970Z",
     "iopub.status.busy": "2022-06-22T14:48:22.926333Z",
     "iopub.status.idle": "2022-06-22T14:48:22.936139Z",
     "shell.execute_reply": "2022-06-22T14:48:22.935485Z"
    },
    "papermill": {
     "duration": 0.01737,
     "end_time": "2022-06-22T14:48:22.938191",
     "exception": false,
     "start_time": "2022-06-22T14:48:22.920821",
     "status": "completed"
    },
    "tags": []
   },
   "outputs": [],
   "source": [
    "CHANNEL_URL = 'https://www.youtube.com/c/Monstercat/videos?view=0&sort=p&flow=grid'\n",
    "FORMAT = 'mp3'\n",
    "NUMBER_OF_VIDEOS = 30\n",
    "SORT_BY_VIEWS = True\n",
    "CORES = 16"
   ]
  },
  {
   "cell_type": "markdown",
   "id": "f67d5149",
   "metadata": {
    "papermill": {
     "duration": 0.003704,
     "end_time": "2022-06-22T14:48:22.946304",
     "exception": false,
     "start_time": "2022-06-22T14:48:22.942600",
     "status": "completed"
    },
    "tags": []
   },
   "source": [
    "Install all required tools"
   ]
  },
  {
   "cell_type": "code",
   "execution_count": 4,
   "id": "0d94685a",
   "metadata": {
    "_kg_hide-input": true,
    "_kg_hide-output": true,
    "execution": {
     "iopub.execute_input": "2022-06-22T14:48:22.955976Z",
     "iopub.status.busy": "2022-06-22T14:48:22.955343Z",
     "iopub.status.idle": "2022-06-22T14:49:23.962720Z",
     "shell.execute_reply": "2022-06-22T14:49:23.961668Z"
    },
    "jupyter": {
     "outputs_hidden": true
    },
    "papermill": {
     "duration": 61.014892,
     "end_time": "2022-06-22T14:49:23.965068",
     "exception": false,
     "start_time": "2022-06-22T14:48:22.950176",
     "status": "completed"
    },
    "scrolled": true,
    "tags": []
   },
   "outputs": [
    {
     "name": "stdout",
     "output_type": "stream",
     "text": [
      "Requirement already satisfied: tqdm in /home/tornikeo/.miniconda3/envs/scraping/lib/python3.8/site-packages (4.64.0)\n",
      "Requirement already satisfied: webdriver-manager in /home/tornikeo/.miniconda3/envs/scraping/lib/python3.8/site-packages (3.8.0)\n",
      "Requirement already satisfied: requests in /home/tornikeo/.miniconda3/envs/scraping/lib/python3.8/site-packages (from webdriver-manager) (2.28.1)\n",
      "Requirement already satisfied: pybrowsers in /home/tornikeo/.miniconda3/envs/scraping/lib/python3.8/site-packages (from webdriver-manager) (0.4.1)\n",
      "Requirement already satisfied: python-dotenv in /home/tornikeo/.miniconda3/envs/scraping/lib/python3.8/site-packages (from webdriver-manager) (0.20.0)\n",
      "Requirement already satisfied: pyxdg<0.28,>=0.27 in /home/tornikeo/.miniconda3/envs/scraping/lib/python3.8/site-packages (from pybrowsers->webdriver-manager) (0.27)\n",
      "Requirement already satisfied: urllib3<1.27,>=1.21.1 in /home/tornikeo/.miniconda3/envs/scraping/lib/python3.8/site-packages (from requests->webdriver-manager) (1.26.9)\n",
      "Requirement already satisfied: idna<4,>=2.5 in /home/tornikeo/.miniconda3/envs/scraping/lib/python3.8/site-packages (from requests->webdriver-manager) (3.3)\n",
      "Requirement already satisfied: charset-normalizer<3,>=2 in /home/tornikeo/.miniconda3/envs/scraping/lib/python3.8/site-packages (from requests->webdriver-manager) (2.1.0)\n",
      "Requirement already satisfied: certifi>=2017.4.17 in /home/tornikeo/.miniconda3/envs/scraping/lib/python3.8/site-packages (from requests->webdriver-manager) (2022.6.15)\n",
      "Requirement already satisfied: selenium in /home/tornikeo/.miniconda3/envs/scraping/lib/python3.8/site-packages (4.3.0)\n",
      "Requirement already satisfied: trio~=0.17 in /home/tornikeo/.miniconda3/envs/scraping/lib/python3.8/site-packages (from selenium) (0.21.0)\n",
      "Requirement already satisfied: trio-websocket~=0.9 in /home/tornikeo/.miniconda3/envs/scraping/lib/python3.8/site-packages (from selenium) (0.9.2)\n",
      "Requirement already satisfied: urllib3[secure,socks]~=1.26 in /home/tornikeo/.miniconda3/envs/scraping/lib/python3.8/site-packages (from selenium) (1.26.9)\n",
      "Requirement already satisfied: sortedcontainers in /home/tornikeo/.miniconda3/envs/scraping/lib/python3.8/site-packages (from trio~=0.17->selenium) (2.4.0)\n",
      "Requirement already satisfied: outcome in /home/tornikeo/.miniconda3/envs/scraping/lib/python3.8/site-packages (from trio~=0.17->selenium) (1.2.0)\n",
      "Requirement already satisfied: sniffio in /home/tornikeo/.miniconda3/envs/scraping/lib/python3.8/site-packages (from trio~=0.17->selenium) (1.2.0)\n",
      "Requirement already satisfied: attrs>=19.2.0 in /home/tornikeo/.miniconda3/envs/scraping/lib/python3.8/site-packages (from trio~=0.17->selenium) (21.4.0)\n",
      "Requirement already satisfied: idna in /home/tornikeo/.miniconda3/envs/scraping/lib/python3.8/site-packages (from trio~=0.17->selenium) (3.3)\n",
      "Requirement already satisfied: async-generator>=1.9 in /home/tornikeo/.miniconda3/envs/scraping/lib/python3.8/site-packages (from trio~=0.17->selenium) (1.10)\n",
      "Requirement already satisfied: wsproto>=0.14 in /home/tornikeo/.miniconda3/envs/scraping/lib/python3.8/site-packages (from trio-websocket~=0.9->selenium) (1.1.0)\n",
      "Requirement already satisfied: PySocks!=1.5.7,<2.0,>=1.5.6 in /home/tornikeo/.miniconda3/envs/scraping/lib/python3.8/site-packages (from urllib3[secure,socks]~=1.26->selenium) (1.7.1)\n",
      "Requirement already satisfied: certifi in /home/tornikeo/.miniconda3/envs/scraping/lib/python3.8/site-packages (from urllib3[secure,socks]~=1.26->selenium) (2022.6.15)\n",
      "Requirement already satisfied: cryptography>=1.3.4 in /home/tornikeo/.miniconda3/envs/scraping/lib/python3.8/site-packages (from urllib3[secure,socks]~=1.26->selenium) (37.0.2)\n",
      "Requirement already satisfied: pyOpenSSL>=0.14 in /home/tornikeo/.miniconda3/envs/scraping/lib/python3.8/site-packages (from urllib3[secure,socks]~=1.26->selenium) (22.0.0)\n",
      "Requirement already satisfied: cffi>=1.12 in /home/tornikeo/.miniconda3/envs/scraping/lib/python3.8/site-packages (from cryptography>=1.3.4->urllib3[secure,socks]~=1.26->selenium) (1.15.1)\n",
      "Requirement already satisfied: pycparser in /home/tornikeo/.miniconda3/envs/scraping/lib/python3.8/site-packages (from cffi>=1.12->cryptography>=1.3.4->urllib3[secure,socks]~=1.26->selenium) (2.21)\n",
      "Requirement already satisfied: h11<1,>=0.9.0 in /home/tornikeo/.miniconda3/envs/scraping/lib/python3.8/site-packages (from wsproto>=0.14->trio-websocket~=0.9->selenium) (0.13.0)\n"
     ]
    }
   ],
   "source": [
    "!pip install tqdm\n",
    "\n",
    "from bs4 import BeautifulSoup\n",
    "import os, time\n",
    "from tqdm import tqdm\n",
    "from IPython.display import FileLink\n",
    "import shutil\n",
    "\n",
    "# !sudo apt-get update\n",
    "# !sudo apt-get install -y unzip xvfb libxi6 libgconf-2-4\n",
    "# !sudo apt-get -y install firefox\n",
    "\n",
    "# !sudo curl -L https://yt-dl.org/downloads/latest/youtube-dl -o /usr/local/bin/youtube-dl\n",
    "# !sudo chmod a+rx /usr/local/bin/youtube-dl\n",
    "\n",
    "!pip install webdriver-manager\n",
    "!pip install selenium\n",
    "\n",
    "# !wget https://github.com/mozilla/geckodriver/releases/download/v0.31.0/geckodriver-v0.31.0-linux64.tar.gz\n",
    "# !tar -xvzf geckodriver-v0.31.0-linux64.tar.gz    \n",
    "# !chmod +x geckodriver\n",
    "os.environ['PATH'] += ':'+os.getcwd()\n",
    "\n",
    "from selenium import webdriver\n",
    "from selenium.webdriver.common.keys import Keys\n",
    "from selenium.webdriver.common.by import By\n",
    "from selenium.webdriver.firefox.options import Options"
   ]
  },
  {
   "cell_type": "code",
   "execution_count": 5,
   "id": "42bc61d6",
   "metadata": {
    "execution": {
     "iopub.execute_input": "2022-06-22T14:49:23.999344Z",
     "iopub.status.busy": "2022-06-22T14:49:23.998933Z",
     "iopub.status.idle": "2022-06-22T14:49:33.206539Z",
     "shell.execute_reply": "2022-06-22T14:49:33.205549Z"
    },
    "papermill": {
     "duration": 9.228041,
     "end_time": "2022-06-22T14:49:33.209324",
     "exception": false,
     "start_time": "2022-06-22T14:49:23.981283",
     "status": "completed"
    },
    "tags": []
   },
   "outputs": [
    {
     "name": "stdout",
     "output_type": "stream",
     "text": [
      "GATHERING LINKS: 60/30\n"
     ]
    }
   ],
   "source": [
    "options = Options()\n",
    "options.headless = True\n",
    "driver = webdriver.Firefox(options=options)\n",
    "driver.get(CHANNEL_URL)\n",
    "\n",
    "NUM_RETRIES = 10\n",
    "anchor_list = []\n",
    "while len(anchor_list) <= NUMBER_OF_VIDEOS:\n",
    "    driver.execute_script(\"window.scrollTo(0, 100000000);\")\n",
    "    retries = 0\n",
    "    while True:\n",
    "        time.sleep(0.3)\n",
    "        page_source = driver.page_source\n",
    "        soup = BeautifulSoup(page_source)\n",
    "        current_list = soup.find_all(id='video-title')\n",
    "        if len(current_list) > len(anchor_list): \n",
    "            anchor_list = current_list\n",
    "            break # Go down \n",
    "        retries += 1\n",
    "        if retries >= NUM_RETRIES:\n",
    "            break\n",
    "    print(f'GATHERING LINKS: {len(anchor_list)}/{NUMBER_OF_VIDEOS}')\n",
    "driver.close()"
   ]
  },
  {
   "cell_type": "code",
   "execution_count": null,
   "id": "a4002a19",
   "metadata": {},
   "outputs": [],
   "source": []
  },
  {
   "cell_type": "code",
   "execution_count": 6,
   "id": "d0c033df",
   "metadata": {},
   "outputs": [
    {
     "data": {
      "text/plain": [
       "[<a aria-label=\"Marshmello - Alone [Monstercat Official Music Video] by Monstercat Uncaged 6 years ago 3 minutes, 20 seconds 167,092,747 views\" class=\"yt-simple-endpoint style-scope ytd-grid-video-renderer\" href=\"/watch?v=YnwsMEabmSo\" id=\"video-title\" title=\"Marshmello - Alone [Monstercat Official Music Video]\">Marshmello - Alone [Monstercat Official Music Video]</a>,\n",
       " <a aria-label=\"[Drumstep] - Tristam &amp; Braken - Flight [Monstercat Release] by Monstercat Uncaged 9 years ago 3 minutes, 40 seconds 71,602,456 views\" class=\"yt-simple-endpoint style-scope ytd-grid-video-renderer\" href=\"/watch?v=OVMuwa-HRCQ\" id=\"video-title\" title=\"[Drumstep] - Tristam &amp; Braken - Flight [Monstercat Release]\">[Drumstep] - Tristam &amp; Braken - Flight [Monstercat Release]</a>,\n",
       " <a aria-label=\"[Trap] - Aero Chord - Surface [Monstercat Release] by Monstercat Uncaged 8 years ago 4 minutes, 15 seconds 65,884,998 views\" class=\"yt-simple-endpoint style-scope ytd-grid-video-renderer\" href=\"/watch?v=BrCKvKXvN2c\" id=\"video-title\" title=\"[Trap] - Aero Chord - Surface [Monstercat Release]\">[Trap] - Aero Chord - Surface [Monstercat Release]</a>,\n",
       " <a aria-label=\"[DnB] - Tristam &amp; Braken - Frame of Mind [Monstercat Release] by Monstercat Uncaged 8 years ago 4 minutes, 31 seconds 63,689,992 views\" class=\"yt-simple-endpoint style-scope ytd-grid-video-renderer\" href=\"/watch?v=SCD2tB1qILc\" id=\"video-title\" title=\"[DnB] - Tristam &amp; Braken - Frame of Mind [Monstercat Release]\">[DnB] - Tristam &amp; Braken - Frame of Mind [Monstercat Release]</a>,\n",
       " <a aria-label=\"[Glitch Hop or 110BPM] - Tristam - Till It's Over [Monstercat Release] by Monstercat Uncaged 8 years ago 4 minutes, 31 seconds 47,168,820 views\" class=\"yt-simple-endpoint style-scope ytd-grid-video-renderer\" href=\"/watch?v=usXhiWE2Uc0\" id=\"video-title\" title=\"[Glitch Hop or 110BPM] - Tristam - Till It's Over [Monstercat Release]\">[Glitch Hop or 110BPM] - Tristam - Till It's Over [Monstercat Release]</a>,\n",
       " <a aria-label=\"[DnB] - Feint - We Won't Be Alone (feat. Laura Brehm) [Monstercat Release] by Monstercat Uncaged 6 years ago 3 minutes, 55 seconds 42,868,016 views\" class=\"yt-simple-endpoint style-scope ytd-grid-video-renderer\" href=\"/watch?v=SItIaWAjI_4\" id=\"video-title\" title=\"[DnB] - Feint - We Won't Be Alone (feat. Laura Brehm) [Monstercat Release]\">[DnB] - Feint - We Won't Be Alone (feat. Laura Brehm) [Monstercat Release]</a>,\n",
       " <a aria-label=\"[Electro] - Pegboard Nerds - Disconnected [Monstercat Release] by Monstercat Uncaged 10 years ago 4 minutes, 2 seconds 42,721,900 views\" class=\"yt-simple-endpoint style-scope ytd-grid-video-renderer\" href=\"/watch?v=MwSkC85TDgY\" id=\"video-title\" title=\"[Electro] - Pegboard Nerds - Disconnected [Monstercat Release]\">[Electro] - Pegboard Nerds - Disconnected [Monstercat Release]</a>,\n",
       " <a aria-label=\"[DnB] - Feint - Snake Eyes (feat. CoMa) [Monstercat Release] by Monstercat Uncaged 9 years ago 4 minutes, 25 seconds 40,836,700 views\" class=\"yt-simple-endpoint style-scope ytd-grid-video-renderer\" href=\"/watch?v=cvq7Jy-TFAU\" id=\"video-title\" title=\"[DnB] - Feint - Snake Eyes (feat. CoMa) [Monstercat Release]\">[DnB] - Feint - Snake Eyes (feat. CoMa) [Monstercat Release]</a>,\n",
       " <a aria-label=\"Vicetone - Nevada (feat. Cozi Zuehlsdorff) [Monstercat Official Music Video] by Monstercat Uncaged 6 years ago 3 minutes, 29 seconds 34,993,281 views\" class=\"yt-simple-endpoint style-scope ytd-grid-video-renderer\" href=\"/watch?v=QqccaHauSKQ\" id=\"video-title\" title=\"Vicetone - Nevada (feat. Cozi Zuehlsdorff) [Monstercat Official Music Video]\">Vicetone - Nevada (feat. Cozi Zuehlsdorff) [Monstercat Official Music Video]</a>,\n",
       " <a aria-label=\"[Glitch Hop / 110BPM] - Pegboard Nerds &amp; Tristam - Razor Sharp [Monstercat Release] by Monstercat Uncaged 9 years ago 4 minutes, 42 seconds 32,935,016 views\" class=\"yt-simple-endpoint style-scope ytd-grid-video-renderer\" href=\"/watch?v=QMokMQ8Bu7Y\" id=\"video-title\" title=\"[Glitch Hop / 110BPM] - Pegboard Nerds &amp; Tristam - Razor Sharp [Monstercat Release]\">[Glitch Hop / 110BPM] - Pegboard Nerds &amp; Tristam - Razor Sharp [Monstercat Release]</a>,\n",
       " <a aria-label=\"[Hard Dance] - Pegboard Nerds - Hero (feat. Elizaveta) [Monstercat Release] by Monstercat Uncaged 8 years ago 5 minutes, 31 seconds 26,872,594 views\" class=\"yt-simple-endpoint style-scope ytd-grid-video-renderer\" href=\"/watch?v=5lLclBfKj48\" id=\"video-title\" title=\"[Hard Dance] - Pegboard Nerds - Hero (feat. Elizaveta) [Monstercat Release]\">[Hard Dance] - Pegboard Nerds - Hero (feat. Elizaveta) [Monstercat Release]</a>,\n",
       " <a aria-label=\"[Electro] - Nitro Fun - New Game [Monstercat Release] by Monstercat Uncaged 8 years ago 4 minutes, 20 seconds 25,614,934 views\" class=\"yt-simple-endpoint style-scope ytd-grid-video-renderer\" href=\"/watch?v=6y_NJg-xoeE\" id=\"video-title\" title=\"[Electro] - Nitro Fun - New Game [Monstercat Release]\">[Electro] - Nitro Fun - New Game [Monstercat Release]</a>,\n",
       " <a aria-label=\"[Electro] - Nitro Fun - Final Boss [Monstercat Release] by Monstercat Uncaged 7 years ago 5 minutes, 17 seconds 25,591,874 views\" class=\"yt-simple-endpoint style-scope ytd-grid-video-renderer\" href=\"/watch?v=VGh5DV0D3wk\" id=\"video-title\" title=\"[Electro] - Nitro Fun - Final Boss [Monstercat Release]\">[Electro] - Nitro Fun - Final Boss [Monstercat Release]</a>,\n",
       " <a aria-label=\"[Hardcore] - Stonebank - Stronger (feat. EMEL) [Monstercat Release] by Monstercat Uncaged 7 years ago 5 minutes, 21 seconds 24,904,019 views\" class=\"yt-simple-endpoint style-scope ytd-grid-video-renderer\" href=\"/watch?v=I1NuCWfYeYc\" id=\"video-title\" title=\"[Hardcore] - Stonebank - Stronger (feat. EMEL) [Monstercat Release]\">[Hardcore] - Stonebank - Stronger (feat. EMEL) [Monstercat Release]</a>,\n",
       " <a aria-label=\"Pegboard Nerds - Emoji VIP [Monstercat Official Music Video] by Monstercat Uncaged 6 years ago 3 minutes, 24 seconds 20,367,200 views\" class=\"yt-simple-endpoint style-scope ytd-grid-video-renderer\" href=\"/watch?v=ovrGzbsQZqc\" id=\"video-title\" title=\"Pegboard Nerds - Emoji VIP [Monstercat Official Music Video]\">Pegboard Nerds - Emoji VIP [Monstercat Official Music Video]</a>,\n",
       " <a aria-label=\"[Glitch Hop or 110BPM] - Tristam - Once Again [Monstercat Album Exclusive] by Monstercat Uncaged 8 years ago 3 minutes, 43 seconds 18,409,607 views\" class=\"yt-simple-endpoint style-scope ytd-grid-video-renderer\" href=\"/watch?v=59M5z0c8YtE\" id=\"video-title\" title=\"[Glitch Hop or 110BPM] - Tristam - Once Again [Monstercat Album Exclusive]\">[Glitch Hop or 110BPM] - Tristam - Once Again [Monstercat Album Exclusive]</a>,\n",
       " <a aria-label=\"Infected Mushroom - Spitfire [Monstercat Release] by Monstercat Uncaged 4 years ago 7 minutes, 15 seconds 17,763,225 views\" class=\"yt-simple-endpoint style-scope ytd-grid-video-renderer\" href=\"/watch?v=bnsUkE8i0tU\" id=\"video-title\" title=\"Infected Mushroom - Spitfire [Monstercat Release]\">Infected Mushroom - Spitfire [Monstercat Release]</a>,\n",
       " <a aria-label=\"[Electro] Nitro Fun - Cheat Codes [Monstercat Release] by Monstercat Uncaged 8 years ago 3 minutes, 32 seconds 17,353,121 views\" class=\"yt-simple-endpoint style-scope ytd-grid-video-renderer\" href=\"/watch?v=mdaCDsN1FJ0\" id=\"video-title\" title=\"[Electro] Nitro Fun - Cheat Codes [Monstercat Release]\">[Electro] Nitro Fun - Cheat Codes [Monstercat Release]</a>,\n",
       " <a aria-label=\"RIOT - Overkill [Monstercat Release] by Monstercat Uncaged 3 years ago 5 minutes, 43 seconds 17,314,585 views\" class=\"yt-simple-endpoint style-scope ytd-grid-video-renderer\" href=\"/watch?v=A8pOVirjGF0\" id=\"video-title\" title=\"RIOT - Overkill [Monstercat Release]\">RIOT - Overkill [Monstercat Release]</a>,\n",
       " <a aria-label=\"[Trap] - Aero Chord - Boundless [Monstercat Release] by Monstercat Uncaged 7 years ago 3 minutes, 13 seconds 16,537,145 views\" class=\"yt-simple-endpoint style-scope ytd-grid-video-renderer\" href=\"/watch?v=mNn34ErU6kM\" id=\"video-title\" title=\"[Trap] - Aero Chord - Boundless [Monstercat Release]\">[Trap] - Aero Chord - Boundless [Monstercat Release]</a>,\n",
       " <a aria-label=\"[Progressive House] - Hellberg - The Girl (feat. Cozi Zuehlsdorff) [Monstercat Release] by Monstercat Uncaged 7 years ago 4 minutes, 26 seconds 16,105,854 views\" class=\"yt-simple-endpoint style-scope ytd-grid-video-renderer\" href=\"/watch?v=FtveSk1N7Uo\" id=\"video-title\" title=\"[Progressive House] - Hellberg - The Girl (feat. Cozi Zuehlsdorff) [Monstercat Release]\">[Progressive House] - Hellberg - The Girl (feat. Cozi Zuehlsdorff) [Monstercat Release]</a>,\n",
       " <a aria-label=\"[Drumstep] - Braken - To The Stars [Monstercat Release] by Monstercat Uncaged 8 years ago 3 minutes, 23 seconds 16,081,921 views\" class=\"yt-simple-endpoint style-scope ytd-grid-video-renderer\" href=\"/watch?v=1dcXmkco5ko\" id=\"video-title\" title=\"[Drumstep] - Braken - To The Stars [Monstercat Release]\">[Drumstep] - Braken - To The Stars [Monstercat Release]</a>,\n",
       " <a aria-label=\"[Trance] - Au5 - Crossroad (feat. Danyka Nadeau) [Monstercat Release] by Monstercat Uncaged 7 years ago 6 minutes, 58 seconds 15,941,703 views\" class=\"yt-simple-endpoint style-scope ytd-grid-video-renderer\" href=\"/watch?v=cUy78QHeuvs\" id=\"video-title\" title=\"[Trance] - Au5 - Crossroad (feat. Danyka Nadeau) [Monstercat Release]\">[Trance] - Au5 - Crossroad (feat. Danyka Nadeau) [Monstercat Release]</a>,\n",
       " <a aria-label=\"[Trap] - Razihel &amp; Aero Chord - Titans [Monstercat Release] by Monstercat Uncaged 7 years ago 4 minutes, 11 seconds 15,831,674 views\" class=\"yt-simple-endpoint style-scope ytd-grid-video-renderer\" href=\"/watch?v=dcyYFKeOT0o\" id=\"video-title\" title=\"[Trap] - Razihel &amp; Aero Chord - Titans [Monstercat Release]\">[Trap] - Razihel &amp; Aero Chord - Titans [Monstercat Release]</a>,\n",
       " <a aria-label=\"[Drumstep] - Rootkit - Against the Sun (feat. Anna Yvette) [Monstercat Release] by Monstercat Uncaged 7 years ago 3 minutes, 33 seconds 15,211,935 views\" class=\"yt-simple-endpoint style-scope ytd-grid-video-renderer\" href=\"/watch?v=NLukRvKWBeA\" id=\"video-title\" title=\"[Drumstep] - Rootkit - Against the Sun (feat. Anna Yvette) [Monstercat Release]\">[Drumstep] - Rootkit - Against the Sun (feat. Anna Yvette) [Monstercat Release]</a>,\n",
       " <a aria-label=\"[Dubstep] - Au5 - Snowblind (feat. Tasha Baxter) [Monstercat Release] by Monstercat Uncaged 7 years ago 5 minutes, 48 seconds 15,143,935 views\" class=\"yt-simple-endpoint style-scope ytd-grid-video-renderer\" href=\"/watch?v=DECxluN8OZM\" id=\"video-title\" title=\"[Dubstep] - Au5 - Snowblind (feat. Tasha Baxter) [Monstercat Release]\">[Dubstep] - Au5 - Snowblind (feat. Tasha Baxter) [Monstercat Release]</a>,\n",
       " <a aria-label=\"[Dubstep] - Tristam - Follow Me [Monstercat VIP Release] by Monstercat Uncaged 10 years ago 4 minutes, 18 seconds 14,876,937 views\" class=\"yt-simple-endpoint style-scope ytd-grid-video-renderer\" href=\"/watch?v=oIr5Eamemv8\" id=\"video-title\" title=\"[Dubstep] - Tristam - Follow Me [Monstercat VIP Release]\">[Dubstep] - Tristam - Follow Me [Monstercat VIP Release]</a>,\n",
       " <a aria-label=\"[Electronic] - Pegboard Nerds - Swamp Thing [Monstercat Release] by Monstercat Uncaged 7 years ago 4 minutes, 24 seconds 13,898,244 views\" class=\"yt-simple-endpoint style-scope ytd-grid-video-renderer\" href=\"/watch?v=SDiJiGuUeBo\" id=\"video-title\" title=\"[Electronic] - Pegboard Nerds - Swamp Thing [Monstercat Release]\">[Electronic] - Pegboard Nerds - Swamp Thing [Monstercat Release]</a>,\n",
       " <a aria-label=\"[Breaks] - Noisestorm - Barracuda [Monstercat Release] by Monstercat Uncaged 7 years ago 4 minutes, 23 seconds 13,719,035 views\" class=\"yt-simple-endpoint style-scope ytd-grid-video-renderer\" href=\"/watch?v=KKRRWQq5f5E\" id=\"video-title\" title=\"[Breaks] - Noisestorm - Barracuda [Monstercat Release]\">[Breaks] - Noisestorm - Barracuda [Monstercat Release]</a>,\n",
       " <a aria-label=\"[Moombahton] - Aero Chord - 4U [Monstercat Release] by Monstercat Uncaged 6 years ago 4 minutes, 5 seconds 13,407,705 views\" class=\"yt-simple-endpoint style-scope ytd-grid-video-renderer\" href=\"/watch?v=oKbChvqADd0\" id=\"video-title\" title=\"[Moombahton] - Aero Chord - 4U [Monstercat Release]\">[Moombahton] - Aero Chord - 4U [Monstercat Release]</a>,\n",
       " <a aria-label=\"[Drumstep] - Noisestorm - Breakdown VIP [Monstercat Release] by Monstercat Uncaged 8 years ago 3 minutes, 55 seconds 12,821,079 views\" class=\"yt-simple-endpoint style-scope ytd-grid-video-renderer\" href=\"/watch?v=wqZ5iLOUOGA\" id=\"video-title\" title=\"[Drumstep] - Noisestorm - Breakdown VIP [Monstercat Release]\">[Drumstep] - Noisestorm - Breakdown VIP [Monstercat Release]</a>,\n",
       " <a aria-label=\"Unlike Pluto - Everything Black (feat. Mike Taylor) [Monstercat Release] by Monstercat Uncaged 5 years ago 3 minutes, 49 seconds 12,784,942 views\" class=\"yt-simple-endpoint style-scope ytd-grid-video-renderer\" href=\"/watch?v=OFqeoXFSlms\" id=\"video-title\" title=\"Unlike Pluto - Everything Black (feat. Mike Taylor) [Monstercat Release]\">Unlike Pluto - Everything Black (feat. Mike Taylor) [Monstercat Release]</a>,\n",
       " <a aria-label=\"[Dubstep] - Pegboard Nerds - Self Destruct [Monstercat Release] by Monstercat Uncaged 9 years ago 3 minutes, 33 seconds 12,769,779 views\" class=\"yt-simple-endpoint style-scope ytd-grid-video-renderer\" href=\"/watch?v=lWDnwTsdtaw\" id=\"video-title\" title=\"[Dubstep] - Pegboard Nerds - Self Destruct [Monstercat Release]\">[Dubstep] - Pegboard Nerds - Self Destruct [Monstercat Release]</a>,\n",
       " <a aria-label=\"[Electro] - Pegboard Nerds - Emergency [Monstercat Release] by Monstercat Uncaged 7 years ago 4 minutes, 14 seconds 12,018,680 views\" class=\"yt-simple-endpoint style-scope ytd-grid-video-renderer\" href=\"/watch?v=B88mv0dhYwc\" id=\"video-title\" title=\"[Electro] - Pegboard Nerds - Emergency [Monstercat Release]\">[Electro] - Pegboard Nerds - Emergency [Monstercat Release]</a>,\n",
       " <a aria-label=\"[Drumstep] - Pegboard Nerds - Try This [Monstercat Release] by Monstercat Uncaged 7 years ago 3 minutes, 49 seconds 11,463,522 views\" class=\"yt-simple-endpoint style-scope ytd-grid-video-renderer\" href=\"/watch?v=ggqI-HH8yXc\" id=\"video-title\" title=\"[Drumstep] - Pegboard Nerds - Try This [Monstercat Release]\">[Drumstep] - Pegboard Nerds - Try This [Monstercat Release]</a>,\n",
       " <a aria-label=\"[Trap] - Pegboard Nerds x MisterWives - Coffins [Monstercat FREE Release] by Monstercat Uncaged 8 years ago 3 minutes, 36 seconds 11,155,603 views\" class=\"yt-simple-endpoint style-scope ytd-grid-video-renderer\" href=\"/watch?v=gRr9E9cVqHE\" id=\"video-title\" title=\"[Trap] - Pegboard Nerds x MisterWives - Coffins [Monstercat FREE Release]\">[Trap] - Pegboard Nerds x MisterWives - Coffins [Monstercat FREE Release]</a>,\n",
       " <a aria-label=\"[Trap] - Noisestorm - Heist [Monstercat Release] by Monstercat Uncaged 6 years ago 3 minutes, 3 seconds 10,695,875 views\" class=\"yt-simple-endpoint style-scope ytd-grid-video-renderer\" href=\"/watch?v=YXYYCFaUUHQ\" id=\"video-title\" title=\"[Trap] - Noisestorm - Heist [Monstercat Release]\">[Trap] - Noisestorm - Heist [Monstercat Release]</a>,\n",
       " <a aria-label=\"Slushii - LUV U NEED U [Monstercat Release] by Monstercat Uncaged 5 years ago 2 minutes, 27 seconds 10,229,381 views\" class=\"yt-simple-endpoint style-scope ytd-grid-video-renderer\" href=\"/watch?v=Q2IaKsHFjr8\" id=\"video-title\" title=\"Slushii - LUV U NEED U [Monstercat Release]\">Slushii - LUV U NEED U [Monstercat Release]</a>,\n",
       " <a aria-label=\"Best of House Music - Vol. 1 (1 Hour Mix) [Monstercat Release] by Monstercat Uncaged 8 years ago 1 hour, 9 minutes 10,194,328 views\" class=\"yt-simple-endpoint style-scope ytd-grid-video-renderer\" href=\"/watch?v=hBJk0Tq3JDU\" id=\"video-title\" title=\"Best of House Music - Vol. 1 (1 Hour Mix) [Monstercat Release]\">Best of House Music - Vol. 1 (1 Hour Mix) [Monstercat Release]</a>,\n",
       " <a aria-label=\"[Electro] - Rogue - Adventure Time [Monstercat Release] by Monstercat Uncaged 9 years ago 5 minutes, 40 seconds 10,053,278 views\" class=\"yt-simple-endpoint style-scope ytd-grid-video-renderer\" href=\"/watch?v=pSvn0rp0kz0\" id=\"video-title\" title=\"[Electro] - Rogue - Adventure Time [Monstercat Release]\">[Electro] - Rogue - Adventure Time [Monstercat Release]</a>,\n",
       " <a aria-label=\"Feint - Words (feat. Laura Brehm) [Monstercat Release] by Monstercat Uncaged 5 years ago 4 minutes, 37 seconds 9,953,654 views\" class=\"yt-simple-endpoint style-scope ytd-grid-video-renderer\" href=\"/watch?v=BMhrBLD_B2U\" id=\"video-title\" title=\"Feint - Words (feat. Laura Brehm) [Monstercat Release]\">Feint - Words (feat. Laura Brehm) [Monstercat Release]</a>,\n",
       " <a aria-label=\"Tristam - I Remember [Monstercat Release] by Monstercat Uncaged 10 years ago 3 minutes, 57 seconds 9,696,330 views\" class=\"yt-simple-endpoint style-scope ytd-grid-video-renderer\" href=\"/watch?v=G1qO2pxzHNE\" id=\"video-title\" title=\"Tristam - I Remember [Monstercat Release]\">Tristam - I Remember [Monstercat Release]</a>,\n",
       " <a aria-label=\"[Dubstep] - Pegboard Nerds - Here It Comes [Monstercat Release] by Monstercat Uncaged 8 years ago 3 minutes, 33 seconds 9,253,683 views\" class=\"yt-simple-endpoint style-scope ytd-grid-video-renderer\" href=\"/watch?v=rEL-HdWvLpM\" id=\"video-title\" title=\"[Dubstep] - Pegboard Nerds - Here It Comes [Monstercat Release]\">[Dubstep] - Pegboard Nerds - Here It Comes [Monstercat Release]</a>,\n",
       " <a aria-label=\"[Drumstep] - Varien - Valkyrie (feat. Laura Brehm) [Monstercat Release] by Monstercat Uncaged 8 years ago 3 minutes, 29 seconds 9,211,279 views\" class=\"yt-simple-endpoint style-scope ytd-grid-video-renderer\" href=\"/watch?v=ddFAIkUb7A0\" id=\"video-title\" title=\"[Drumstep] - Varien - Valkyrie (feat. Laura Brehm) [Monstercat Release]\">[Drumstep] - Varien - Valkyrie (feat. Laura Brehm) [Monstercat Release]</a>,\n",
       " <a aria-label=\"Vicetone - What I've Waited For (feat. D. Brown) [Monstercat Lyric Video] by Monstercat Uncaged 7 years ago 3 minutes, 48 seconds 8,872,099 views\" class=\"yt-simple-endpoint style-scope ytd-grid-video-renderer\" href=\"/watch?v=FYyCbKZIkgc\" id=\"video-title\" title=\"Vicetone - What I've Waited For (feat. D. Brown) [Monstercat Lyric Video]\">Vicetone - What I've Waited For (feat. D. Brown) [Monstercat Lyric Video]</a>,\n",
       " <a aria-label=\"Darren Styles, Dougal &amp; Gammer - Party Don't Stop [Monstercat Release] by Monstercat Uncaged 4 years ago 3 minutes, 18 seconds 8,405,977 views\" class=\"yt-simple-endpoint style-scope ytd-grid-video-renderer\" href=\"/watch?v=6ed0N-5zLW8\" id=\"video-title\" title=\"Darren Styles, Dougal &amp; Gammer - Party Don't Stop [Monstercat Release]\">Darren Styles, Dougal &amp; Gammer - Party Don't Stop [Monstercat Release]</a>,\n",
       " <a aria-label=\"[Future Bass] - Pegboard Nerds - Just Like That (feat. Johnny Graves) [Monstercat EP Release] by Monstercat Uncaged 6 years ago 3 minutes, 24 seconds 8,316,759 views\" class=\"yt-simple-endpoint style-scope ytd-grid-video-renderer\" href=\"/watch?v=XZq2l0iLV7Y\" id=\"video-title\" title=\"[Future Bass] - Pegboard Nerds - Just Like That (feat. Johnny Graves) [Monstercat EP Release]\">[Future Bass] - Pegboard Nerds - Just Like That (feat. Johnny Graves) [Monstercat EP Release]</a>,\n",
       " <a aria-label=\"[Trap] - Aero Chord - Break Them (feat. Anna Yvette) [Monstercat Release] by Monstercat Uncaged 7 years ago 4 minutes, 20 seconds 7,923,081 views\" class=\"yt-simple-endpoint style-scope ytd-grid-video-renderer\" href=\"/watch?v=nnAy1906EHg\" id=\"video-title\" title=\"[Trap] - Aero Chord - Break Them (feat. Anna Yvette) [Monstercat Release]\">[Trap] - Aero Chord - Break Them (feat. Anna Yvette) [Monstercat Release]</a>,\n",
       " <a aria-label=\"[Breaks] - Excision &amp; Pegboard Nerds - Bring The Madness (Noisestorm Remix) [Monstercat] by Monstercat Uncaged 7 years ago 4 minutes, 1 second 7,882,137 views\" class=\"yt-simple-endpoint style-scope ytd-grid-video-renderer\" href=\"/watch?v=zOMFGuM5xww\" id=\"video-title\" title=\"[Breaks] - Excision &amp; Pegboard Nerds - Bring The Madness (Noisestorm Remix) [Monstercat]\">[Breaks] - Excision &amp; Pegboard Nerds - Bring The Madness (Noisestorm Remix) [Monstercat]</a>,\n",
       " <a aria-label=\"[Happy Hardcore] - nanobii - Rainbow Road [Monstercat Release] by Monstercat Uncaged 8 years ago 2 minutes, 54 seconds 7,854,668 views\" class=\"yt-simple-endpoint style-scope ytd-grid-video-renderer\" href=\"/watch?v=a0Aauep0VWs\" id=\"video-title\" title=\"[Happy Hardcore] - nanobii - Rainbow Road [Monstercat Release]\">[Happy Hardcore] - nanobii - Rainbow Road [Monstercat Release]</a>,\n",
       " <a aria-label=\"[Electro] - Tut Tut Child - Hot Pursuit [Monstercat Release] by Monstercat Uncaged 7 years ago 4 minutes, 59 seconds 7,245,621 views\" class=\"yt-simple-endpoint style-scope ytd-grid-video-renderer\" href=\"/watch?v=v8V0ag3c-HA\" id=\"video-title\" title=\"[Electro] - Tut Tut Child - Hot Pursuit [Monstercat Release]\">[Electro] - Tut Tut Child - Hot Pursuit [Monstercat Release]</a>,\n",
       " <a aria-label=\"[Drumstep] - Pegboard Nerds - Pressure Cooker [Monstercat Release] by Monstercat Uncaged 10 years ago 3 minutes, 16 seconds 7,187,395 views\" class=\"yt-simple-endpoint style-scope ytd-grid-video-renderer\" href=\"/watch?v=X5VJX9kYf3Q\" id=\"video-title\" title=\"[Drumstep] - Pegboard Nerds - Pressure Cooker [Monstercat Release]\">[Drumstep] - Pegboard Nerds - Pressure Cooker [Monstercat Release]</a>,\n",
       " <a aria-label=\"[DnB] - Feint &amp; Boyinaband feat. Veela - Time Bomb [Monstercat Release] by Monstercat Uncaged 10 years ago 3 minutes, 32 seconds 7,185,780 views\" class=\"yt-simple-endpoint style-scope ytd-grid-video-renderer\" href=\"/watch?v=ihDkZC5PmiA\" id=\"video-title\" title=\"[DnB] - Feint &amp; Boyinaband feat. Veela - Time Bomb [Monstercat Release]\">[DnB] - Feint &amp; Boyinaband feat. Veela - Time Bomb [Monstercat Release]</a>,\n",
       " <a aria-label=\"[Electro] - Laszlo - Supernova [Monstercat Release] by Monstercat Uncaged 7 years ago 5 minutes, 27 seconds 7,122,085 views\" class=\"yt-simple-endpoint style-scope ytd-grid-video-renderer\" href=\"/watch?v=PKfxmFU3lWY\" id=\"video-title\" title=\"[Electro] - Laszlo - Supernova [Monstercat Release]\">[Electro] - Laszlo - Supernova [Monstercat Release]</a>,\n",
       " <a aria-label=\"[Electro] - Insan3Lik3 - Bad Pitched [Monstercat VIP Release] by Monstercat Uncaged 10 years ago 4 minutes, 37 seconds 7,012,531 views\" class=\"yt-simple-endpoint style-scope ytd-grid-video-renderer\" href=\"/watch?v=a-4Ny4URgf4\" id=\"video-title\" title=\"[Electro] - Insan3Lik3 - Bad Pitched [Monstercat VIP Release]\">[Electro] - Insan3Lik3 - Bad Pitched [Monstercat VIP Release]</a>,\n",
       " <a aria-label=\"Tokyo Machine - ROCK IT [Monstercat Release] by Monstercat Uncaged 5 years ago 3 minutes, 12 seconds 6,891,012 views\" class=\"yt-simple-endpoint style-scope ytd-grid-video-renderer\" href=\"/watch?v=NFB6Y2Qt8ag\" id=\"video-title\" title=\"Tokyo Machine - ROCK IT [Monstercat Release]\">Tokyo Machine - ROCK IT [Monstercat Release]</a>,\n",
       " <a aria-label=\"[DnB] - Muzzy - Feeling Stronger (feat. Charlotte Colley) (High Maintenance Remix) by Monstercat Uncaged 7 years ago 4 minutes, 13 seconds 6,663,951 views\" class=\"yt-simple-endpoint style-scope ytd-grid-video-renderer\" href=\"/watch?v=BUV2sRIcnqw\" id=\"video-title\" title=\"[DnB] - Muzzy - Feeling Stronger (feat. Charlotte Colley) (High Maintenance Remix)\">[DnB] - Muzzy - Feeling Stronger (feat. Charlotte Colley) (High Maintenance Remix)</a>,\n",
       " <a aria-label=\"[Electro] - PIXL - Sugar Rush [Monstercat EP Release] by Monstercat Uncaged 8 years ago 4 minutes, 15 seconds 6,600,275 views\" class=\"yt-simple-endpoint style-scope ytd-grid-video-renderer\" href=\"/watch?v=-WR0o7NWUy8\" id=\"video-title\" title=\"[Electro] - PIXL - Sugar Rush [Monstercat EP Release]\">[Electro] - PIXL - Sugar Rush [Monstercat EP Release]</a>,\n",
       " <a aria-label=\"[Drumstep] - Best of DNB &amp; Drumstep - Vol. 2 (1 Hour Mix) [Monstercat Release] by Monstercat Uncaged 8 years ago 1 hour, 2 minutes 6,377,342 views\" class=\"yt-simple-endpoint style-scope ytd-grid-video-renderer\" href=\"/watch?v=OKtzEbWiCaM\" id=\"video-title\" title=\"[Drumstep] - Best of DNB &amp; Drumstep - Vol. 2 (1 Hour Mix) [Monstercat Release]\">[Drumstep] - Best of DNB &amp; Drumstep - Vol. 2 (1 Hour Mix) [Monstercat Release]</a>,\n",
       " <a aria-label=\"[Breaks] - Noisestorm - Sentinel [Monstercat Release] by Monstercat Uncaged 7 years ago 5 minutes, 29 seconds 6,311,926 views\" class=\"yt-simple-endpoint style-scope ytd-grid-video-renderer\" href=\"/watch?v=LKALcthKSwA\" id=\"video-title\" title=\"[Breaks] - Noisestorm - Sentinel [Monstercat Release]\">[Breaks] - Noisestorm - Sentinel [Monstercat Release]</a>]"
      ]
     },
     "execution_count": 6,
     "metadata": {},
     "output_type": "execute_result"
    }
   ],
   "source": [
    "anchor_list"
   ]
  },
  {
   "cell_type": "code",
   "execution_count": 4,
   "id": "d03e3362",
   "metadata": {
    "execution": {
     "iopub.execute_input": "2022-06-22T14:49:33.245167Z",
     "iopub.status.busy": "2022-06-22T14:49:33.244289Z",
     "iopub.status.idle": "2022-06-22T17:01:03.806941Z",
     "shell.execute_reply": "2022-06-22T17:01:03.805196Z"
    },
    "papermill": {
     "duration": 7890.582828,
     "end_time": "2022-06-22T17:01:03.809385",
     "exception": false,
     "start_time": "2022-06-22T14:49:33.226557",
     "status": "completed"
    },
    "tags": []
   },
   "outputs": [
    {
     "name": "stderr",
     "output_type": "stream",
     "text": [
      "  0%|          | 0/60 [00:00<?, ?it/s]"
     ]
    },
    {
     "name": "stdout",
     "output_type": "stream",
     "text": [
      "[youtube] YnwsMEabmSo: Downloading webpage\r\n",
      "[youtube] YnwsMEabmSo: Downloading player f05de49d\r\n",
      "\u001b[0;31mERROR:\u001b[0m unable to download video data: <urlopen error [Errno 99] Cannot assign requested address>\r\n"
     ]
    },
    {
     "name": "stderr",
     "output_type": "stream",
     "text": [
      "  2%|▏         | 1/60 [02:13<2:11:29, 133.72s/it]"
     ]
    },
    {
     "name": "stdout",
     "output_type": "stream",
     "text": [
      "[youtube] OVMuwa-HRCQ: Downloading webpage\r\n",
      "[download] Destination: Drumstep_-_Tristam_Braken_-_Flight_Monstercat_Release.webm\r\n",
      "\u001b[K[download] 100% of 3.39MiB in 01:15\r\n",
      "[ffmpeg] Destination: Drumstep_-_Tristam_Braken_-_Flight_Monstercat_Release.mp3\r\n",
      "Deleting original file Drumstep_-_Tristam_Braken_-_Flight_Monstercat_Release.webm (pass -k to keep)\r\n"
     ]
    },
    {
     "name": "stderr",
     "output_type": "stream",
     "text": [
      "  3%|▎         | 2/60 [03:40<1:42:20, 105.86s/it]"
     ]
    },
    {
     "name": "stdout",
     "output_type": "stream",
     "text": [
      "[youtube] BrCKvKXvN2c: Downloading webpage\r\n",
      "[download] Destination: Trap_-_Aero_Chord_-_Surface_Monstercat_Release.webm\r\n",
      "\u001b[K[download] 100% of 4.09MiB in 01:08\r\n",
      "[ffmpeg] Destination: Trap_-_Aero_Chord_-_Surface_Monstercat_Release.mp3\r\n",
      "Deleting original file Trap_-_Aero_Chord_-_Surface_Monstercat_Release.webm (pass -k to keep)\r\n"
     ]
    },
    {
     "name": "stderr",
     "output_type": "stream",
     "text": [
      "  5%|▌         | 3/60 [04:59<1:28:55, 93.61s/it] "
     ]
    },
    {
     "name": "stdout",
     "output_type": "stream",
     "text": [
      "[youtube] SCD2tB1qILc: Downloading webpage\r\n",
      "[download] Destination: DnB_-_Tristam_Braken_-_Frame_of_Mind_Monstercat_Release.webm\r\n",
      "\u001b[K[download] 100% of 4.23MiB in 00:56\r\n",
      "[ffmpeg] Destination: DnB_-_Tristam_Braken_-_Frame_of_Mind_Monstercat_Release.mp3\r\n",
      "Deleting original file DnB_-_Tristam_Braken_-_Frame_of_Mind_Monstercat_Release.webm (pass -k to keep)\r\n"
     ]
    },
    {
     "name": "stderr",
     "output_type": "stream",
     "text": [
      "  7%|▋         | 4/60 [06:06<1:17:51, 83.42s/it]"
     ]
    },
    {
     "name": "stdout",
     "output_type": "stream",
     "text": [
      "[youtube] usXhiWE2Uc0: Downloading webpage\r\n",
      "[download] Destination: Glitch_Hop_or_110BPM_-_Tristam_-_Till_It_s_Over_Monstercat_Release.webm\r\n",
      "\u001b[K[download] 100% of 4.37MiB in 01:41\r\n",
      "[ffmpeg] Destination: Glitch_Hop_or_110BPM_-_Tristam_-_Till_It_s_Over_Monstercat_Release.mp3\r\n",
      "Deleting original file Glitch_Hop_or_110BPM_-_Tristam_-_Till_It_s_Over_Monstercat_Release.webm (pass -k to keep)\r\n"
     ]
    },
    {
     "name": "stderr",
     "output_type": "stream",
     "text": [
      "  8%|▊         | 5/60 [07:59<1:26:15, 94.10s/it]"
     ]
    },
    {
     "name": "stdout",
     "output_type": "stream",
     "text": [
      "[youtube] SItIaWAjI_4: Downloading webpage\r\n",
      "[download] Destination: DnB_-_Feint_-_We_Won_t_Be_Alone_feat._Laura_Brehm_Monstercat_Release.webm\r\n",
      "\u001b[K[download] 100% of 3.72MiB in 00:55\r\n",
      "[ffmpeg] Destination: DnB_-_Feint_-_We_Won_t_Be_Alone_feat._Laura_Brehm_Monstercat_Release.mp3\r\n",
      "Deleting original file DnB_-_Feint_-_We_Won_t_Be_Alone_feat._Laura_Brehm_Monstercat_Release.webm (pass -k to keep)\r\n"
     ]
    },
    {
     "name": "stderr",
     "output_type": "stream",
     "text": [
      " 10%|█         | 6/60 [09:05<1:15:59, 84.44s/it]"
     ]
    },
    {
     "name": "stdout",
     "output_type": "stream",
     "text": [
      "[youtube] MwSkC85TDgY: Downloading webpage\r\n",
      "[download] Destination: Electro_-_Pegboard_Nerds_-_Disconnected_Monstercat_Release.webm\r\n",
      "\u001b[K[download] 100% of 3.78MiB in 01:07\r\n",
      "[ffmpeg] Destination: Electro_-_Pegboard_Nerds_-_Disconnected_Monstercat_Release.mp3\r\n",
      "Deleting original file Electro_-_Pegboard_Nerds_-_Disconnected_Monstercat_Release.webm (pass -k to keep)\r\n"
     ]
    },
    {
     "name": "stderr",
     "output_type": "stream",
     "text": [
      " 12%|█▏        | 7/60 [10:23<1:12:41, 82.29s/it]"
     ]
    },
    {
     "name": "stdout",
     "output_type": "stream",
     "text": [
      "[youtube] cvq7Jy-TFAU: Downloading webpage\r\n",
      "[download] Destination: DnB_-_Feint_-_Snake_Eyes_feat._CoMa_Monstercat_Release.m4a\r\n",
      "\u001b[K[download] 100% of 4.09MiB in 01:34\r\n",
      "[ffmpeg] Correcting container in \"DnB_-_Feint_-_Snake_Eyes_feat._CoMa_Monstercat_Release.m4a\"\r\n",
      "[ffmpeg] Destination: DnB_-_Feint_-_Snake_Eyes_feat._CoMa_Monstercat_Release.mp3\r\n",
      "Deleting original file DnB_-_Feint_-_Snake_Eyes_feat._CoMa_Monstercat_Release.m4a (pass -k to keep)\r\n"
     ]
    },
    {
     "name": "stderr",
     "output_type": "stream",
     "text": [
      " 13%|█▎        | 8/60 [12:08<1:17:36, 89.55s/it]"
     ]
    },
    {
     "name": "stdout",
     "output_type": "stream",
     "text": [
      "[youtube] QqccaHauSKQ: Downloading webpage\r\n",
      "[download] Destination: Vicetone_-_Nevada_feat._Cozi_Zuehlsdorff_Monstercat_Official_Music_Video.webm\r\n",
      "\u001b[K[download] 100% of 3.48MiB in 00:42\r\n",
      "[ffmpeg] Destination: Vicetone_-_Nevada_feat._Cozi_Zuehlsdorff_Monstercat_Official_Music_Video.mp3\r\n",
      "Deleting original file Vicetone_-_Nevada_feat._Cozi_Zuehlsdorff_Monstercat_Official_Music_Video.webm (pass -k to keep)\r\n"
     ]
    },
    {
     "name": "stderr",
     "output_type": "stream",
     "text": [
      " 15%|█▌        | 9/60 [13:01<1:06:20, 78.06s/it]"
     ]
    },
    {
     "name": "stdout",
     "output_type": "stream",
     "text": [
      "[youtube] QMokMQ8Bu7Y: Downloading webpage\r\n",
      "[download] Destination: Glitch_Hop_110BPM_-_Pegboard_Nerds_Tristam_-_Razor_Sharp_Monstercat_Release.m4a\r\n",
      "\u001b[K[download] 100% of 4.35MiB in 01:35\r\n",
      "[ffmpeg] Correcting container in \"Glitch_Hop_110BPM_-_Pegboard_Nerds_Tristam_-_Razor_Sharp_Monstercat_Release.m4a\"\r\n",
      "[ffmpeg] Destination: Glitch_Hop_110BPM_-_Pegboard_Nerds_Tristam_-_Razor_Sharp_Monstercat_Release.mp3\r\n",
      "Deleting original file Glitch_Hop_110BPM_-_Pegboard_Nerds_Tristam_-_Razor_Sharp_Monstercat_Release.m4a (pass -k to keep)\r\n"
     ]
    },
    {
     "name": "stderr",
     "output_type": "stream",
     "text": [
      " 17%|█▋        | 10/60 [14:47<1:12:21, 86.82s/it]"
     ]
    },
    {
     "name": "stdout",
     "output_type": "stream",
     "text": [
      "[youtube] 5lLclBfKj48: Downloading webpage\r\n",
      "[download] Destination: Hard_Dance_-_Pegboard_Nerds_-_Hero_feat._Elizaveta_Monstercat_Release.m4a\r\n",
      "\u001b[K[download] 100% of 5.10MiB in 01:37\r\n",
      "[ffmpeg] Correcting container in \"Hard_Dance_-_Pegboard_Nerds_-_Hero_feat._Elizaveta_Monstercat_Release.m4a\"\r\n",
      "[ffmpeg] Destination: Hard_Dance_-_Pegboard_Nerds_-_Hero_feat._Elizaveta_Monstercat_Release.mp3\r\n",
      "Deleting original file Hard_Dance_-_Pegboard_Nerds_-_Hero_feat._Elizaveta_Monstercat_Release.m4a (pass -k to keep)\r\n"
     ]
    },
    {
     "name": "stderr",
     "output_type": "stream",
     "text": [
      " 18%|█▊        | 11/60 [16:37<1:16:38, 93.85s/it]"
     ]
    },
    {
     "name": "stdout",
     "output_type": "stream",
     "text": [
      "[youtube] 6y_NJg-xoeE: Downloading webpage\r\n",
      "\u001b[0;31mERROR:\u001b[0m unable to download video data: <urlopen error [Errno 99] Cannot assign requested address>\r\n"
     ]
    },
    {
     "name": "stderr",
     "output_type": "stream",
     "text": [
      " 20%|██        | 12/60 [18:53<1:25:13, 106.53s/it]"
     ]
    },
    {
     "name": "stdout",
     "output_type": "stream",
     "text": [
      "[youtube] VGh5DV0D3wk: Downloading webpage\r\n",
      "\u001b[0;31mERROR:\u001b[0m unable to download video data: <urlopen error [Errno 99] Cannot assign requested address>\r\n"
     ]
    },
    {
     "name": "stderr",
     "output_type": "stream",
     "text": [
      " 22%|██▏       | 13/60 [21:08<1:30:14, 115.20s/it]"
     ]
    },
    {
     "name": "stdout",
     "output_type": "stream",
     "text": [
      "[youtube] I1NuCWfYeYc: Downloading webpage\r\n",
      "\u001b[0;31mERROR:\u001b[0m unable to download video data: <urlopen error [Errno 99] Cannot assign requested address>\r\n"
     ]
    },
    {
     "name": "stderr",
     "output_type": "stream",
     "text": [
      " 23%|██▎       | 14/60 [23:23<1:32:56, 121.23s/it]"
     ]
    },
    {
     "name": "stdout",
     "output_type": "stream",
     "text": [
      "[youtube] ovrGzbsQZqc: Downloading webpage\r\n",
      "[download] Destination: Pegboard_Nerds_-_Emoji_VIP_Monstercat_Official_Music_Video.webm\r\n",
      "\u001b[K[download] 100% of 3.16MiB in 00:41\r\n",
      "[ffmpeg] Destination: Pegboard_Nerds_-_Emoji_VIP_Monstercat_Official_Music_Video.mp3\r\n",
      "Deleting original file Pegboard_Nerds_-_Emoji_VIP_Monstercat_Official_Music_Video.webm (pass -k to keep)\r\n"
     ]
    },
    {
     "name": "stderr",
     "output_type": "stream",
     "text": [
      " 25%|██▌       | 15/60 [24:14<1:15:07, 100.16s/it]"
     ]
    },
    {
     "name": "stdout",
     "output_type": "stream",
     "text": [
      "[youtube] 59M5z0c8YtE: Downloading webpage\r\n",
      "\u001b[0;31mERROR:\u001b[0m unable to download video data: <urlopen error [Errno 99] Cannot assign requested address>\r\n"
     ]
    },
    {
     "name": "stderr",
     "output_type": "stream",
     "text": [
      " 27%|██▋       | 16/60 [26:27<1:20:41, 110.04s/it]"
     ]
    },
    {
     "name": "stdout",
     "output_type": "stream",
     "text": [
      "[youtube] bnsUkE8i0tU: Downloading webpage\r\n",
      "\u001b[0;31mERROR:\u001b[0m unable to download video data: <urlopen error [Errno 99] Cannot assign requested address>\r\n"
     ]
    },
    {
     "name": "stderr",
     "output_type": "stream",
     "text": [
      " 28%|██▊       | 17/60 [28:42<1:24:16, 117.60s/it]"
     ]
    },
    {
     "name": "stdout",
     "output_type": "stream",
     "text": [
      "[youtube] mdaCDsN1FJ0: Downloading webpage\r\n",
      "[download] Destination: Electro_Nitro_Fun_-_Cheat_Codes_Monstercat_Release.webm\r\n",
      "\u001b[K[download] 100% of 3.42MiB in 00:47\r\n",
      "[ffmpeg] Destination: Electro_Nitro_Fun_-_Cheat_Codes_Monstercat_Release.mp3\r\n",
      "Deleting original file Electro_Nitro_Fun_-_Cheat_Codes_Monstercat_Release.webm (pass -k to keep)\r\n"
     ]
    },
    {
     "name": "stderr",
     "output_type": "stream",
     "text": [
      " 30%|███       | 18/60 [29:39<1:09:32, 99.35s/it] "
     ]
    },
    {
     "name": "stdout",
     "output_type": "stream",
     "text": [
      "[youtube] A8pOVirjGF0: Downloading webpage\r\n",
      "\u001b[0;31mERROR:\u001b[0m unable to download video data: <urlopen error [Errno 99] Cannot assign requested address>\r\n"
     ]
    },
    {
     "name": "stderr",
     "output_type": "stream",
     "text": [
      " 32%|███▏      | 19/60 [31:55<1:15:20, 110.25s/it]"
     ]
    },
    {
     "name": "stdout",
     "output_type": "stream",
     "text": [
      "[youtube] mNn34ErU6kM: Downloading webpage\r\n",
      "[download] Destination: Trap_-_Aero_Chord_-_Boundless_Monstercat_Release.webm\r\n",
      "\u001b[K[download] 100% of 3.07MiB in 01:02\r\n",
      "[ffmpeg] Destination: Trap_-_Aero_Chord_-_Boundless_Monstercat_Release.mp3\r\n",
      "Deleting original file Trap_-_Aero_Chord_-_Boundless_Monstercat_Release.webm (pass -k to keep)\r\n"
     ]
    },
    {
     "name": "stderr",
     "output_type": "stream",
     "text": [
      " 33%|███▎      | 20/60 [33:07<1:05:51, 98.78s/it] "
     ]
    },
    {
     "name": "stdout",
     "output_type": "stream",
     "text": [
      "[youtube] FtveSk1N7Uo: Downloading webpage\r\n",
      "[download] Destination: Progressive_House_-_Hellberg_-_The_Girl_feat._Cozi_Zuehlsdorff_Monstercat_Release.webm\r\n",
      "\u001b[K[download] 100% of 4.23MiB in 00:56\r\n",
      "[ffmpeg] Destination: Progressive_House_-_Hellberg_-_The_Girl_feat._Cozi_Zuehlsdorff_Monstercat_Release.mp3\r\n",
      "Deleting original file Progressive_House_-_Hellberg_-_The_Girl_feat._Cozi_Zuehlsdorff_Monstercat_Release.webm (pass -k to keep)\r\n"
     ]
    },
    {
     "name": "stderr",
     "output_type": "stream",
     "text": [
      " 35%|███▌      | 21/60 [34:15<58:07, 89.43s/it]  "
     ]
    },
    {
     "name": "stdout",
     "output_type": "stream",
     "text": [
      "[youtube] 1dcXmkco5ko: Downloading webpage\r\n",
      "[download] Destination: Drumstep_-_Braken_-_To_The_Stars_Monstercat_Release.webm\r\n",
      "\u001b[K[download] 100% of 3.16MiB in 01:13\r\n",
      "[ffmpeg] Destination: Drumstep_-_Braken_-_To_The_Stars_Monstercat_Release.mp3\r\n",
      "Deleting original file Drumstep_-_Braken_-_To_The_Stars_Monstercat_Release.webm (pass -k to keep)\r\n"
     ]
    },
    {
     "name": "stderr",
     "output_type": "stream",
     "text": [
      " 37%|███▋      | 22/60 [35:38<55:25, 87.51s/it]"
     ]
    },
    {
     "name": "stdout",
     "output_type": "stream",
     "text": [
      "[youtube] cUy78QHeuvs: Downloading webpage\r\n",
      "\u001b[0;31mERROR:\u001b[0m unable to download video data: <urlopen error [Errno 99] Cannot assign requested address>\r\n"
     ]
    },
    {
     "name": "stderr",
     "output_type": "stream",
     "text": [
      " 38%|███▊      | 23/60 [37:51<1:02:30, 101.36s/it]"
     ]
    },
    {
     "name": "stdout",
     "output_type": "stream",
     "text": [
      "[youtube] dcyYFKeOT0o: Downloading webpage\r\n",
      "\u001b[0;31mERROR:\u001b[0m unable to download video data: HTTP Error 403: Forbidden\r\n"
     ]
    },
    {
     "name": "stderr",
     "output_type": "stream",
     "text": [
      " 40%|████      | 24/60 [37:56<43:20, 72.23s/it]   "
     ]
    },
    {
     "name": "stdout",
     "output_type": "stream",
     "text": [
      "[youtube] NLukRvKWBeA: Downloading webpage\r\n",
      "[download] Destination: Drumstep_-_Rootkit_-_Against_the_Sun_feat._Anna_Yvette_Monstercat_Release.webm\r\n",
      "\u001b[K[download] 100% of 3.33MiB in 01:14\r\n",
      "[ffmpeg] Destination: Drumstep_-_Rootkit_-_Against_the_Sun_feat._Anna_Yvette_Monstercat_Release.mp3\r\n",
      "Deleting original file Drumstep_-_Rootkit_-_Against_the_Sun_feat._Anna_Yvette_Monstercat_Release.webm (pass -k to keep)\r\n"
     ]
    },
    {
     "name": "stderr",
     "output_type": "stream",
     "text": [
      " 42%|████▏     | 25/60 [39:20<44:13, 75.82s/it]"
     ]
    },
    {
     "name": "stdout",
     "output_type": "stream",
     "text": [
      "[youtube] DECxluN8OZM: Downloading webpage\r\n",
      "\u001b[0;31mERROR:\u001b[0m unable to download video data: <urlopen error [Errno 99] Cannot assign requested address>\r\n"
     ]
    },
    {
     "name": "stderr",
     "output_type": "stream",
     "text": [
      " 43%|████▎     | 26/60 [41:33<52:38, 92.89s/it]"
     ]
    },
    {
     "name": "stdout",
     "output_type": "stream",
     "text": [
      "[youtube] oIr5Eamemv8: Downloading webpage\r\n",
      "[download] Destination: Dubstep_-_Tristam_-_Follow_Me_Monstercat_VIP_Release.webm\r\n",
      "\u001b[K[download] 100% of 4.16MiB in 01:02\r\n",
      "[ffmpeg] Destination: Dubstep_-_Tristam_-_Follow_Me_Monstercat_VIP_Release.mp3\r\n",
      "Deleting original file Dubstep_-_Tristam_-_Follow_Me_Monstercat_VIP_Release.webm (pass -k to keep)\r\n"
     ]
    },
    {
     "name": "stderr",
     "output_type": "stream",
     "text": [
      " 45%|████▌     | 27/60 [42:46<47:53, 87.06s/it]"
     ]
    },
    {
     "name": "stdout",
     "output_type": "stream",
     "text": [
      "[youtube] SDiJiGuUeBo: Downloading webpage\r\n",
      "[download] Destination: Electronic_-_Pegboard_Nerds_-_Swamp_Thing_Monstercat_Release.m4a\r\n",
      "\u001b[K[download] 100% of 4.06MiB in 01:34\r\n",
      "[ffmpeg] Correcting container in \"Electronic_-_Pegboard_Nerds_-_Swamp_Thing_Monstercat_Release.m4a\"\r\n",
      "[ffmpeg] Destination: Electronic_-_Pegboard_Nerds_-_Swamp_Thing_Monstercat_Release.mp3\r\n",
      "Deleting original file Electronic_-_Pegboard_Nerds_-_Swamp_Thing_Monstercat_Release.m4a (pass -k to keep)\r\n"
     ]
    },
    {
     "name": "stderr",
     "output_type": "stream",
     "text": [
      " 47%|████▋     | 28/60 [44:31<49:16, 92.39s/it]"
     ]
    },
    {
     "name": "stdout",
     "output_type": "stream",
     "text": [
      "[youtube] KKRRWQq5f5E: Downloading webpage\r\n",
      "[download] Destination: Breaks_-_Noisestorm_-_Barracuda_Monstercat_Release.m4a\r\n",
      "\u001b[K[download] 100% of 4.06MiB in 01:29\r\n",
      "[ffmpeg] Correcting container in \"Breaks_-_Noisestorm_-_Barracuda_Monstercat_Release.m4a\"\r\n",
      "[ffmpeg] Destination: Breaks_-_Noisestorm_-_Barracuda_Monstercat_Release.mp3\r\n",
      "Deleting original file Breaks_-_Noisestorm_-_Barracuda_Monstercat_Release.m4a (pass -k to keep)\r\n"
     ]
    },
    {
     "name": "stderr",
     "output_type": "stream",
     "text": [
      " 48%|████▊     | 29/60 [46:11<48:53, 94.64s/it]"
     ]
    },
    {
     "name": "stdout",
     "output_type": "stream",
     "text": [
      "[youtube] oKbChvqADd0: Downloading webpage\r\n",
      "[download] Destination: Moombahton_-_Aero_Chord_-_4U_Monstercat_Release.webm\r\n",
      "\u001b[K[download] 100% of 3.87MiB in 01:03\r\n",
      "[ffmpeg] Destination: Moombahton_-_Aero_Chord_-_4U_Monstercat_Release.mp3\r\n",
      "Deleting original file Moombahton_-_Aero_Chord_-_4U_Monstercat_Release.webm (pass -k to keep)\r\n"
     ]
    },
    {
     "name": "stderr",
     "output_type": "stream",
     "text": [
      " 50%|█████     | 30/60 [47:25<44:19, 88.65s/it]"
     ]
    },
    {
     "name": "stdout",
     "output_type": "stream",
     "text": [
      "[youtube] wqZ5iLOUOGA: Downloading webpage\r\n",
      "[download] Destination: Drumstep_-_Noisestorm_-_Breakdown_VIP_Monstercat_Release.m4a\r\n",
      "\u001b[K[download] 100% of 3.55MiB in 01:22\r\n",
      "[ffmpeg] Correcting container in \"Drumstep_-_Noisestorm_-_Breakdown_VIP_Monstercat_Release.m4a\"\r\n",
      "[ffmpeg] Destination: Drumstep_-_Noisestorm_-_Breakdown_VIP_Monstercat_Release.mp3\r\n",
      "Deleting original file Drumstep_-_Noisestorm_-_Breakdown_VIP_Monstercat_Release.m4a (pass -k to keep)\r\n"
     ]
    },
    {
     "name": "stderr",
     "output_type": "stream",
     "text": [
      " 52%|█████▏    | 31/60 [48:57<43:20, 89.68s/it]"
     ]
    },
    {
     "name": "stdout",
     "output_type": "stream",
     "text": [
      "[youtube] lWDnwTsdtaw: Downloading webpage\r\n",
      "[download] Destination: Dubstep_-_Pegboard_Nerds_-_Self_Destruct_Monstercat_Release.webm\r\n",
      "\u001b[K[download] 100% of 3.30MiB in 01:16\r\n",
      "[ffmpeg] Destination: Dubstep_-_Pegboard_Nerds_-_Self_Destruct_Monstercat_Release.mp3\r\n",
      "Deleting original file Dubstep_-_Pegboard_Nerds_-_Self_Destruct_Monstercat_Release.webm (pass -k to keep)\r\n"
     ]
    },
    {
     "name": "stderr",
     "output_type": "stream",
     "text": [
      " 53%|█████▎    | 32/60 [50:24<41:24, 88.73s/it]"
     ]
    },
    {
     "name": "stdout",
     "output_type": "stream",
     "text": [
      "[youtube] OFqeoXFSlms: Downloading webpage\r\n",
      "[download] Destination: Unlike_Pluto_-_Everything_Black_feat._Mike_Taylor_Monstercat_Release.m4a\r\n",
      "\u001b[K[download] 100% of 3.54MiB in 01:06\r\n",
      "[ffmpeg] Correcting container in \"Unlike_Pluto_-_Everything_Black_feat._Mike_Taylor_Monstercat_Release.m4a\"\r\n",
      "[ffmpeg] Destination: Unlike_Pluto_-_Everything_Black_feat._Mike_Taylor_Monstercat_Release.mp3\r\n",
      "Deleting original file Unlike_Pluto_-_Everything_Black_feat._Mike_Taylor_Monstercat_Release.m4a (pass -k to keep)\r\n"
     ]
    },
    {
     "name": "stderr",
     "output_type": "stream",
     "text": [
      " 55%|█████▌    | 33/60 [51:41<38:16, 85.07s/it]"
     ]
    },
    {
     "name": "stdout",
     "output_type": "stream",
     "text": [
      "[youtube] B88mv0dhYwc: Downloading webpage\r\n",
      "[download] Destination: Electro_-_Pegboard_Nerds_-_Emergency_Monstercat_Release.m4a\r\n",
      "\u001b[K[download] 100% of 3.84MiB in 01:29\r\n",
      "[ffmpeg] Correcting container in \"Electro_-_Pegboard_Nerds_-_Emergency_Monstercat_Release.m4a\"\r\n",
      "[ffmpeg] Destination: Electro_-_Pegboard_Nerds_-_Emergency_Monstercat_Release.mp3\r\n",
      "Deleting original file Electro_-_Pegboard_Nerds_-_Emergency_Monstercat_Release.m4a (pass -k to keep)\r\n"
     ]
    },
    {
     "name": "stderr",
     "output_type": "stream",
     "text": [
      " 57%|█████▋    | 34/60 [53:20<38:41, 89.29s/it]"
     ]
    },
    {
     "name": "stdout",
     "output_type": "stream",
     "text": [
      "[youtube] ggqI-HH8yXc: Downloading webpage\r\n",
      "[download] Destination: Drumstep_-_Pegboard_Nerds_-_Try_This_Monstercat_Release.webm\r\n",
      "\u001b[K[download] 100% of 3.47MiB in 01:20\r\n",
      "[ffmpeg] Destination: Drumstep_-_Pegboard_Nerds_-_Try_This_Monstercat_Release.mp3\r\n",
      "Deleting original file Drumstep_-_Pegboard_Nerds_-_Try_This_Monstercat_Release.webm (pass -k to keep)\r\n"
     ]
    },
    {
     "name": "stderr",
     "output_type": "stream",
     "text": [
      " 58%|█████▊    | 35/60 [54:51<37:24, 89.79s/it]"
     ]
    },
    {
     "name": "stdout",
     "output_type": "stream",
     "text": [
      "[youtube] gRr9E9cVqHE: Downloading webpage\r\n",
      "[download] Destination: Trap_-_Pegboard_Nerds_x_MisterWives_-_Coffins_Monstercat_FREE_Release.webm\r\n",
      "\u001b[K[download] 100% of 3.34MiB in 01:10\r\n",
      "[ffmpeg] Destination: Trap_-_Pegboard_Nerds_x_MisterWives_-_Coffins_Monstercat_FREE_Release.mp3\r\n",
      "Deleting original file Trap_-_Pegboard_Nerds_x_MisterWives_-_Coffins_Monstercat_FREE_Release.webm (pass -k to keep)\r\n"
     ]
    },
    {
     "name": "stderr",
     "output_type": "stream",
     "text": [
      " 60%|██████    | 36/60 [56:11<34:43, 86.82s/it]"
     ]
    },
    {
     "name": "stdout",
     "output_type": "stream",
     "text": [
      "[youtube] YXYYCFaUUHQ: Downloading webpage\r\n",
      "[download] Destination: Trap_-_Noisestorm_-_Heist_Monstercat_Release.m4a\r\n",
      "\u001b[K[download] 100% of 2.81MiB in 00:54\r\n",
      "[ffmpeg] Correcting container in \"Trap_-_Noisestorm_-_Heist_Monstercat_Release.m4a\"\r\n",
      "[ffmpeg] Destination: Trap_-_Noisestorm_-_Heist_Monstercat_Release.mp3\r\n",
      "Deleting original file Trap_-_Noisestorm_-_Heist_Monstercat_Release.m4a (pass -k to keep)\r\n"
     ]
    },
    {
     "name": "stderr",
     "output_type": "stream",
     "text": [
      " 62%|██████▏   | 37/60 [57:13<30:31, 79.61s/it]"
     ]
    },
    {
     "name": "stdout",
     "output_type": "stream",
     "text": [
      "[youtube] Q2IaKsHFjr8: Downloading webpage\r\n",
      "[download] Destination: Slushii_-_LUV_U_NEED_U_Monstercat_Release.webm\r\n",
      "\u001b[K[download] 100% of 2.29MiB in 00:34\r\n",
      "[ffmpeg] Destination: Slushii_-_LUV_U_NEED_U_Monstercat_Release.mp3\r\n",
      "Deleting original file Slushii_-_LUV_U_NEED_U_Monstercat_Release.webm (pass -k to keep)\r\n"
     ]
    },
    {
     "name": "stderr",
     "output_type": "stream",
     "text": [
      " 63%|██████▎   | 38/60 [57:56<25:10, 68.64s/it]"
     ]
    },
    {
     "name": "stdout",
     "output_type": "stream",
     "text": [
      "[youtube] hBJk0Tq3JDU: Downloading webpage\r\n",
      "[download] Destination: Best_of_House_Music_-_Vol._1_1_Hour_Mix_Monstercat_Release.webm\r\n",
      "\u001b[K[download] 100% of 65.00MiB in 24:12\r\n",
      "[ffmpeg] Destination: Best_of_House_Music_-_Vol._1_1_Hour_Mix_Monstercat_Release.mp3\r\n",
      "Deleting original file Best_of_House_Music_-_Vol._1_1_Hour_Mix_Monstercat_Release.webm (pass -k to keep)\r\n"
     ]
    },
    {
     "name": "stderr",
     "output_type": "stream",
     "text": [
      " 65%|██████▌   | 39/60 [1:24:08<3:01:50, 519.54s/it]"
     ]
    },
    {
     "name": "stdout",
     "output_type": "stream",
     "text": [
      "[youtube] pSvn0rp0kz0: Downloading webpage\r\n",
      "[download] Destination: Electro_-_Rogue_-_Adventure_Time_Monstercat_Release.webm\r\n",
      "\u001b[K[download] 100% of 5.26MiB in 01:28\r\n",
      "[ffmpeg] Destination: Electro_-_Rogue_-_Adventure_Time_Monstercat_Release.mp3\r\n",
      "Deleting original file Electro_-_Rogue_-_Adventure_Time_Monstercat_Release.webm (pass -k to keep)\r\n"
     ]
    },
    {
     "name": "stderr",
     "output_type": "stream",
     "text": [
      " 67%|██████▋   | 40/60 [1:25:50<2:11:24, 394.24s/it]"
     ]
    },
    {
     "name": "stdout",
     "output_type": "stream",
     "text": [
      "[youtube] BMhrBLD_B2U: Downloading webpage\r\n",
      "[download] Destination: Feint_-_Words_feat._Laura_Brehm_Monstercat_Release.webm\r\n",
      "\u001b[K[download] 100% of 4.29MiB in 00:58\r\n",
      "[ffmpeg] Destination: Feint_-_Words_feat._Laura_Brehm_Monstercat_Release.mp3\r\n",
      "Deleting original file Feint_-_Words_feat._Laura_Brehm_Monstercat_Release.webm (pass -k to keep)\r\n"
     ]
    },
    {
     "name": "stderr",
     "output_type": "stream",
     "text": [
      " 68%|██████▊   | 41/60 [1:27:00<1:34:04, 297.06s/it]"
     ]
    },
    {
     "name": "stdout",
     "output_type": "stream",
     "text": [
      "[youtube] G1qO2pxzHNE: Downloading webpage\r\n",
      "[download] Destination: Tristam_-_I_Remember_Monstercat_Release.m4a\r\n",
      "\u001b[K[download] 100% of 3.59MiB in 01:13\r\n",
      "[ffmpeg] Correcting container in \"Tristam_-_I_Remember_Monstercat_Release.m4a\"\r\n",
      "[ffmpeg] Destination: Tristam_-_I_Remember_Monstercat_Release.mp3\r\n",
      "Deleting original file Tristam_-_I_Remember_Monstercat_Release.m4a (pass -k to keep)\r\n"
     ]
    },
    {
     "name": "stderr",
     "output_type": "stream",
     "text": [
      " 70%|███████   | 42/60 [1:28:23<1:09:50, 232.78s/it]"
     ]
    },
    {
     "name": "stdout",
     "output_type": "stream",
     "text": [
      "[youtube] rEL-HdWvLpM: Downloading webpage\r\n",
      "[download] Destination: Dubstep_-_Pegboard_Nerds_-_Here_It_Comes_Monstercat_Release.m4a\r\n",
      "\u001b[K[download] 100% of 3.27MiB in 00:56\r\n",
      "[ffmpeg] Correcting container in \"Dubstep_-_Pegboard_Nerds_-_Here_It_Comes_Monstercat_Release.m4a\"\r\n",
      "[ffmpeg] Destination: Dubstep_-_Pegboard_Nerds_-_Here_It_Comes_Monstercat_Release.mp3\r\n",
      "Deleting original file Dubstep_-_Pegboard_Nerds_-_Here_It_Comes_Monstercat_Release.m4a (pass -k to keep)\r\n"
     ]
    },
    {
     "name": "stderr",
     "output_type": "stream",
     "text": [
      " 72%|███████▏  | 43/60 [1:29:29<51:44, 182.62s/it]  "
     ]
    },
    {
     "name": "stdout",
     "output_type": "stream",
     "text": [
      "[youtube] ddFAIkUb7A0: Downloading webpage\r\n",
      "[download] Destination: Drumstep_-_Varien_-_Valkyrie_feat._Laura_Brehm_Monstercat_Release.webm\r\n",
      "\u001b[K[download] 100% of 3.41MiB in 00:56\r\n",
      "[ffmpeg] Destination: Drumstep_-_Varien_-_Valkyrie_feat._Laura_Brehm_Monstercat_Release.mp3\r\n",
      "Deleting original file Drumstep_-_Varien_-_Valkyrie_feat._Laura_Brehm_Monstercat_Release.webm (pass -k to keep)\r\n"
     ]
    },
    {
     "name": "stderr",
     "output_type": "stream",
     "text": [
      " 73%|███████▎  | 44/60 [1:30:35<39:24, 147.81s/it]"
     ]
    },
    {
     "name": "stdout",
     "output_type": "stream",
     "text": [
      "[youtube] FYyCbKZIkgc: Downloading webpage\r\n",
      "[download] Destination: Vicetone_-_What_I_ve_Waited_For_feat._D._Brown_Monstercat_Lyric_Video.webm\r\n",
      "\u001b[K[download] 100% of 3.51MiB in 01:01\r\n",
      "[ffmpeg] Destination: Vicetone_-_What_I_ve_Waited_For_feat._D._Brown_Monstercat_Lyric_Video.mp3\r\n",
      "Deleting original file Vicetone_-_What_I_ve_Waited_For_feat._D._Brown_Monstercat_Lyric_Video.webm (pass -k to keep)\r\n"
     ]
    },
    {
     "name": "stderr",
     "output_type": "stream",
     "text": [
      " 75%|███████▌  | 45/60 [1:31:48<31:21, 125.41s/it]"
     ]
    },
    {
     "name": "stdout",
     "output_type": "stream",
     "text": [
      "[youtube] 6ed0N-5zLW8: Downloading webpage\r\n",
      "[download] Destination: Darren_Styles_Dougal_Gammer_-_Party_Don_t_Stop_Monstercat_Release.webm\r\n",
      "\u001b[K[download] 100% of 3.06MiB in 00:40\r\n",
      "[ffmpeg] Destination: Darren_Styles_Dougal_Gammer_-_Party_Don_t_Stop_Monstercat_Release.mp3\r\n",
      "Deleting original file Darren_Styles_Dougal_Gammer_-_Party_Don_t_Stop_Monstercat_Release.webm (pass -k to keep)\r\n"
     ]
    },
    {
     "name": "stderr",
     "output_type": "stream",
     "text": [
      " 77%|███████▋  | 46/60 [1:32:39<24:01, 102.96s/it]"
     ]
    },
    {
     "name": "stdout",
     "output_type": "stream",
     "text": [
      "[youtube] XZq2l0iLV7Y: Downloading webpage\r\n",
      "[download] Destination: Future_Bass_-_Pegboard_Nerds_-_Just_Like_That_feat._Johnny_Graves_Monstercat_EP_Release.webm\r\n",
      "\u001b[K[download] 100% of 3.26MiB in 01:07\r\n",
      "[ffmpeg] Destination: Future_Bass_-_Pegboard_Nerds_-_Just_Like_That_feat._Johnny_Graves_Monstercat_EP_Release.mp3\r\n",
      "Deleting original file Future_Bass_-_Pegboard_Nerds_-_Just_Like_That_feat._Johnny_Graves_Monstercat_EP_Release.webm (pass -k to keep)\r\n"
     ]
    },
    {
     "name": "stderr",
     "output_type": "stream",
     "text": [
      " 78%|███████▊  | 47/60 [1:33:56<20:37, 95.19s/it] "
     ]
    },
    {
     "name": "stdout",
     "output_type": "stream",
     "text": [
      "[youtube] nnAy1906EHg: Downloading webpage\r\n",
      "[download] Destination: Trap_-_Aero_Chord_-_Break_Them_feat._Anna_Yvette_Monstercat_Release.webm\r\n",
      "\u001b[K[download] 100% of 4.15MiB in 01:36\r\n",
      "[ffmpeg] Destination: Trap_-_Aero_Chord_-_Break_Them_feat._Anna_Yvette_Monstercat_Release.mp3\r\n",
      "Deleting original file Trap_-_Aero_Chord_-_Break_Them_feat._Anna_Yvette_Monstercat_Release.webm (pass -k to keep)\r\n"
     ]
    },
    {
     "name": "stderr",
     "output_type": "stream",
     "text": [
      " 80%|████████  | 48/60 [1:35:44<19:47, 98.99s/it]"
     ]
    },
    {
     "name": "stdout",
     "output_type": "stream",
     "text": [
      "[youtube] zOMFGuM5xww: Downloading webpage\r\n",
      "[download] Destination: Breaks_-_Excision_Pegboard_Nerds_-_Bring_The_Madness_Noisestorm_Remix_Monstercat.m4a\r\n",
      "\u001b[K[download] 100% of 3.64MiB in 01:02\r\n",
      "[ffmpeg] Correcting container in \"Breaks_-_Excision_Pegboard_Nerds_-_Bring_The_Madness_Noisestorm_Remix_Monstercat.m4a\"\r\n",
      "[ffmpeg] Destination: Breaks_-_Excision_Pegboard_Nerds_-_Bring_The_Madness_Noisestorm_Remix_Monstercat.mp3\r\n",
      "Deleting original file Breaks_-_Excision_Pegboard_Nerds_-_Bring_The_Madness_Noisestorm_Remix_Monstercat.m4a (pass -k to keep)\r\n"
     ]
    },
    {
     "name": "stderr",
     "output_type": "stream",
     "text": [
      " 82%|████████▏ | 49/60 [1:36:56<16:42, 91.09s/it]"
     ]
    },
    {
     "name": "stdout",
     "output_type": "stream",
     "text": [
      "[youtube] a0Aauep0VWs: Downloading webpage\r\n",
      "[download] Destination: Happy_Hardcore_-_nanobii_-_Rainbow_Road_Monstercat_Release.webm\r\n",
      "\u001b[K[download] 100% of 2.73MiB in 00:45\r\n",
      "[ffmpeg] Destination: Happy_Hardcore_-_nanobii_-_Rainbow_Road_Monstercat_Release.mp3\r\n",
      "Deleting original file Happy_Hardcore_-_nanobii_-_Rainbow_Road_Monstercat_Release.webm (pass -k to keep)\r\n"
     ]
    },
    {
     "name": "stderr",
     "output_type": "stream",
     "text": [
      " 83%|████████▎ | 50/60 [1:37:51<13:20, 80.06s/it]"
     ]
    },
    {
     "name": "stdout",
     "output_type": "stream",
     "text": [
      "[youtube] v8V0ag3c-HA: Downloading webpage\r\n",
      "[download] Destination: Electro_-_Tut_Tut_Child_-_Hot_Pursuit_Monstercat_Release.m4a\r\n",
      "\u001b[K[download] 100% of 4.60MiB in 01:28\r\n",
      "[ffmpeg] Correcting container in \"Electro_-_Tut_Tut_Child_-_Hot_Pursuit_Monstercat_Release.m4a\"\r\n",
      "[ffmpeg] Destination: Electro_-_Tut_Tut_Child_-_Hot_Pursuit_Monstercat_Release.mp3\r\n",
      "Deleting original file Electro_-_Tut_Tut_Child_-_Hot_Pursuit_Monstercat_Release.m4a (pass -k to keep)\r\n"
     ]
    },
    {
     "name": "stderr",
     "output_type": "stream",
     "text": [
      " 85%|████████▌ | 51/60 [1:39:31<12:54, 86.00s/it]"
     ]
    },
    {
     "name": "stdout",
     "output_type": "stream",
     "text": [
      "[youtube] X5VJX9kYf3Q: Downloading webpage\r\n",
      "[download] Destination: Drumstep_-_Pegboard_Nerds_-_Pressure_Cooker_Monstercat_Release.webm\r\n",
      "\u001b[K[download] 100% of 2.97MiB in 00:42\r\n",
      "[ffmpeg] Destination: Drumstep_-_Pegboard_Nerds_-_Pressure_Cooker_Monstercat_Release.mp3\r\n",
      "Deleting original file Drumstep_-_Pegboard_Nerds_-_Pressure_Cooker_Monstercat_Release.webm (pass -k to keep)\r\n"
     ]
    },
    {
     "name": "stderr",
     "output_type": "stream",
     "text": [
      " 87%|████████▋ | 52/60 [1:40:22<10:06, 75.76s/it]"
     ]
    },
    {
     "name": "stdout",
     "output_type": "stream",
     "text": [
      "[youtube] ihDkZC5PmiA: Downloading webpage\r\n",
      "[download] Destination: DnB_-_Feint_Boyinaband_feat._Veela_-_Time_Bomb_Monstercat_Release.m4a\r\n",
      "\u001b[K[download] 100% of 3.26MiB in 01:01\r\n",
      "[ffmpeg] Correcting container in \"DnB_-_Feint_Boyinaband_feat._Veela_-_Time_Bomb_Monstercat_Release.m4a\"\r\n",
      "[ffmpeg] Destination: DnB_-_Feint_Boyinaband_feat._Veela_-_Time_Bomb_Monstercat_Release.mp3\r\n",
      "Deleting original file DnB_-_Feint_Boyinaband_feat._Veela_-_Time_Bomb_Monstercat_Release.m4a (pass -k to keep)\r\n"
     ]
    },
    {
     "name": "stderr",
     "output_type": "stream",
     "text": [
      " 88%|████████▊ | 53/60 [1:41:33<08:38, 74.06s/it]"
     ]
    },
    {
     "name": "stdout",
     "output_type": "stream",
     "text": [
      "[youtube] PKfxmFU3lWY: Downloading webpage\r\n",
      "[download] Destination: Electro_-_Laszlo_-_Supernova_Monstercat_Release.m4a\r\n",
      "\u001b[K[download] 100% of 5.05MiB in 01:09\r\n",
      "[ffmpeg] Correcting container in \"Electro_-_Laszlo_-_Supernova_Monstercat_Release.m4a\"\r\n",
      "[ffmpeg] Destination: Electro_-_Laszlo_-_Supernova_Monstercat_Release.mp3\r\n",
      "Deleting original file Electro_-_Laszlo_-_Supernova_Monstercat_Release.m4a (pass -k to keep)\r\n"
     ]
    },
    {
     "name": "stderr",
     "output_type": "stream",
     "text": [
      " 90%|█████████ | 54/60 [1:42:53<07:36, 76.09s/it]"
     ]
    },
    {
     "name": "stdout",
     "output_type": "stream",
     "text": [
      "[youtube] a-4Ny4URgf4: Downloading webpage\r\n",
      "[download] Destination: Electro_-_Insan3Lik3_-_Bad_Pitched_Monstercat_VIP_Release.webm\r\n",
      "\u001b[K[download] 100% of 4.64MiB in 01:17\r\n",
      "[ffmpeg] Destination: Electro_-_Insan3Lik3_-_Bad_Pitched_Monstercat_VIP_Release.mp3\r\n",
      "Deleting original file Electro_-_Insan3Lik3_-_Bad_Pitched_Monstercat_VIP_Release.webm (pass -k to keep)\r\n"
     ]
    },
    {
     "name": "stderr",
     "output_type": "stream",
     "text": [
      " 92%|█████████▏| 55/60 [1:44:22<06:39, 79.92s/it]"
     ]
    },
    {
     "name": "stdout",
     "output_type": "stream",
     "text": [
      "[youtube] NFB6Y2Qt8ag: Downloading webpage\r\n",
      "[download] Destination: Tokyo_Machine_-_ROCK_IT_Monstercat_Release.webm\r\n",
      "\u001b[K[download] 100% of 3.01MiB in 00:50\r\n",
      "[ffmpeg] Destination: Tokyo_Machine_-_ROCK_IT_Monstercat_Release.mp3\r\n",
      "Deleting original file Tokyo_Machine_-_ROCK_IT_Monstercat_Release.webm (pass -k to keep)\r\n"
     ]
    },
    {
     "name": "stderr",
     "output_type": "stream",
     "text": [
      " 93%|█████████▎| 56/60 [1:45:22<04:55, 73.93s/it]"
     ]
    },
    {
     "name": "stdout",
     "output_type": "stream",
     "text": [
      "[youtube] BUV2sRIcnqw: Downloading webpage\r\n",
      "[download] Destination: DnB_-_Muzzy_-_Feeling_Stronger_feat._Charlotte_Colley_High_Maintenance_Remix.m4a\r\n",
      "\u001b[K[download] 100% of 3.89MiB in 00:58\r\n",
      "[ffmpeg] Correcting container in \"DnB_-_Muzzy_-_Feeling_Stronger_feat._Charlotte_Colley_High_Maintenance_Remix.m4a\"\r\n",
      "[ffmpeg] Destination: DnB_-_Muzzy_-_Feeling_Stronger_feat._Charlotte_Colley_High_Maintenance_Remix.mp3\r\n",
      "Deleting original file DnB_-_Muzzy_-_Feeling_Stronger_feat._Charlotte_Colley_High_Maintenance_Remix.m4a (pass -k to keep)\r\n"
     ]
    },
    {
     "name": "stderr",
     "output_type": "stream",
     "text": [
      " 95%|█████████▌| 57/60 [1:46:31<03:36, 72.33s/it]"
     ]
    },
    {
     "name": "stdout",
     "output_type": "stream",
     "text": [
      "[youtube] -WR0o7NWUy8: Downloading webpage\r\n",
      "[download] Destination: Electro_-_PIXL_-_Sugar_Rush_Monstercat_EP_Release.m4a\r\n",
      "\u001b[K[download] 100% of 3.94MiB in 00:55\r\n",
      "[ffmpeg] Correcting container in \"Electro_-_PIXL_-_Sugar_Rush_Monstercat_EP_Release.m4a\"\r\n",
      "[ffmpeg] Destination: Electro_-_PIXL_-_Sugar_Rush_Monstercat_EP_Release.mp3\r\n",
      "Deleting original file Electro_-_PIXL_-_Sugar_Rush_Monstercat_EP_Release.m4a (pass -k to keep)\r\n"
     ]
    },
    {
     "name": "stderr",
     "output_type": "stream",
     "text": [
      " 97%|█████████▋| 58/60 [1:47:36<02:20, 70.18s/it]"
     ]
    },
    {
     "name": "stdout",
     "output_type": "stream",
     "text": [
      "[youtube] OKtzEbWiCaM: Downloading webpage\r\n",
      "[download] Destination: Drumstep_-_Best_of_DNB_Drumstep_-_Vol._2_1_Hour_Mix_Monstercat_Release.webm\r\n",
      "\u001b[K[download] 100% of 57.61MiB in 20:18\r\n",
      "[ffmpeg] Destination: Drumstep_-_Best_of_DNB_Drumstep_-_Vol._2_1_Hour_Mix_Monstercat_Release.mp3\r\n",
      "Deleting original file Drumstep_-_Best_of_DNB_Drumstep_-_Vol._2_1_Hour_Mix_Monstercat_Release.webm (pass -k to keep)\r\n"
     ]
    },
    {
     "name": "stderr",
     "output_type": "stream",
     "text": [
      " 98%|█████████▊| 59/60 [2:09:37<07:25, 445.38s/it]"
     ]
    },
    {
     "name": "stdout",
     "output_type": "stream",
     "text": [
      "[youtube] LKALcthKSwA: Downloading webpage\r\n",
      "[download] Destination: Breaks_-_Noisestorm_-_Sentinel_Monstercat_Release.webm\r\n",
      "\u001b[K[download] 100% of 5.08MiB in 01:25\r\n",
      "[ffmpeg] Destination: Breaks_-_Noisestorm_-_Sentinel_Monstercat_Release.mp3\r\n",
      "Deleting original file Breaks_-_Noisestorm_-_Sentinel_Monstercat_Release.webm (pass -k to keep)\r\n"
     ]
    },
    {
     "name": "stderr",
     "output_type": "stream",
     "text": [
      "100%|██████████| 60/60 [2:11:15<00:00, 131.26s/it]\n"
     ]
    },
    {
     "name": "stdout",
     "output_type": "stream",
     "text": [
      "Here's all your music, zipped!\n"
     ]
    },
    {
     "data": {
      "text/html": [
       "<a href='Music.zip' target='_blank'>Music.zip</a><br>"
      ],
      "text/plain": [
       "/kaggle/working/Music.zip"
      ]
     },
     "execution_count": 4,
     "metadata": {},
     "output_type": "execute_result"
    }
   ],
   "source": [
    "base = 'https://www.youtube.com'\n",
    "vid_links = [base + a['href'] for a in anchor_list]\n",
    "\n",
    "!mkdir -p Music\n",
    "for vid_link in tqdm(vid_links):\n",
    "    !cd Music && youtube-dl --download-archive done.txt --ignore-errors --extract-audio \\\n",
    "               --audio-format {FORMAT} --restrict-filenames --output \"%(title)s.%(ext)s\" {vid_link}\n",
    "\n",
    "shutil.make_archive('Music', 'zip', 'Music')\n",
    "print(\"Here's all your music, zipped!\")\n",
    "FileLink(r'Music.zip')"
   ]
  },
  {
   "cell_type": "code",
   "execution_count": 5,
   "id": "5f4f4902",
   "metadata": {
    "execution": {
     "iopub.execute_input": "2022-06-22T17:01:04.701085Z",
     "iopub.status.busy": "2022-06-22T17:01:04.700411Z",
     "iopub.status.idle": "2022-06-22T17:01:19.052754Z",
     "shell.execute_reply": "2022-06-22T17:01:19.051572Z"
    },
    "papermill": {
     "duration": 14.798416,
     "end_time": "2022-06-22T17:01:19.055050",
     "exception": false,
     "start_time": "2022-06-22T17:01:04.256634",
     "status": "completed"
    },
    "tags": []
   },
   "outputs": [
    {
     "name": "stdout",
     "output_type": "stream",
     "text": [
      "Here's all your music, zipped!\n"
     ]
    },
    {
     "data": {
      "text/html": [
       "<a href='Music.zip' target='_blank'>Music.zip</a><br>"
      ],
      "text/plain": [
       "/kaggle/working/Music.zip"
      ]
     },
     "execution_count": 5,
     "metadata": {},
     "output_type": "execute_result"
    }
   ],
   "source": [
    "shutil.make_archive('Music', 'zip', 'Music')\n",
    "print(\"Here's all your music, zipped!\")\n",
    "FileLink(r'Music.zip')"
   ]
  },
  {
   "cell_type": "code",
   "execution_count": 6,
   "id": "302ebb98",
   "metadata": {
    "execution": {
     "iopub.execute_input": "2022-06-22T17:01:19.947687Z",
     "iopub.status.busy": "2022-06-22T17:01:19.947307Z",
     "iopub.status.idle": "2022-06-22T17:01:19.951246Z",
     "shell.execute_reply": "2022-06-22T17:01:19.950321Z"
    },
    "papermill": {
     "duration": 0.450241,
     "end_time": "2022-06-22T17:01:19.953588",
     "exception": false,
     "start_time": "2022-06-22T17:01:19.503347",
     "status": "completed"
    },
    "tags": []
   },
   "outputs": [],
   "source": [
    "\n",
    "# from multiprocessing import Process\n",
    "\n",
    "# def run_cpu_tasks_in_parallel(tasks):\n",
    "#     running_tasks = [Process(target=task) for task in tasks]\n",
    "#     for running_task in running_tasks:\n",
    "#         running_task.start()\n",
    "#     for running_task in running_tasks:\n",
    "#         running_task.join()"
   ]
  },
  {
   "cell_type": "code",
   "execution_count": 7,
   "id": "f00f2fa3",
   "metadata": {
    "execution": {
     "iopub.execute_input": "2022-06-22T17:01:21.461589Z",
     "iopub.status.busy": "2022-06-22T17:01:21.460885Z",
     "iopub.status.idle": "2022-06-22T17:01:21.464925Z",
     "shell.execute_reply": "2022-06-22T17:01:21.464240Z"
    },
    "papermill": {
     "duration": 0.988446,
     "end_time": "2022-06-22T17:01:21.466817",
     "exception": false,
     "start_time": "2022-06-22T17:01:20.478371",
     "status": "completed"
    },
    "tags": []
   },
   "outputs": [],
   "source": [
    "# @dask.delayed\n",
    "# def download_one(vid_link):\n",
    "#     print(f'Downloading {vid_link}')\n",
    "#     try:\n",
    "#         !youtube-dl --download-archive done.txt --ignore-errors --extract-audio \\\n",
    "#            --audio-format mp3 --restrict-filenames --output \"%(title)s.%(ext)s\" {vid_link}\n",
    "#     except Exception as ex:\n",
    "#         print(ex)\n",
    "#     return vid_link"
   ]
  },
  {
   "cell_type": "code",
   "execution_count": 8,
   "id": "4ae6e1c3",
   "metadata": {
    "execution": {
     "iopub.execute_input": "2022-06-22T17:01:22.359774Z",
     "iopub.status.busy": "2022-06-22T17:01:22.359063Z",
     "iopub.status.idle": "2022-06-22T17:01:22.363108Z",
     "shell.execute_reply": "2022-06-22T17:01:22.362414Z"
    },
    "papermill": {
     "duration": 0.453545,
     "end_time": "2022-06-22T17:01:22.365109",
     "exception": false,
     "start_time": "2022-06-22T17:01:21.911564",
     "status": "completed"
    },
    "tags": []
   },
   "outputs": [],
   "source": [
    "# !pip install youtube_dl"
   ]
  },
  {
   "cell_type": "code",
   "execution_count": 9,
   "id": "2ef314b3",
   "metadata": {
    "execution": {
     "iopub.execute_input": "2022-06-22T17:01:23.327173Z",
     "iopub.status.busy": "2022-06-22T17:01:23.326108Z",
     "iopub.status.idle": "2022-06-22T17:01:23.330955Z",
     "shell.execute_reply": "2022-06-22T17:01:23.330304Z"
    },
    "papermill": {
     "duration": 0.526767,
     "end_time": "2022-06-22T17:01:23.333083",
     "exception": false,
     "start_time": "2022-06-22T17:01:22.806316",
     "status": "completed"
    },
    "tags": []
   },
   "outputs": [],
   "source": [
    "# from multiprocessing import Process\n",
    "\n",
    "# def runInParallel(*fns):\n",
    "#   proc = []\n",
    "#   for fn in fns:\n",
    "#     p = Process(target=fn)\n",
    "#     p.start()\n",
    "#     proc.append(p)\n",
    "#   for p in proc:\n",
    "#     p.join()\n",
    "\n",
    "# runInParallel(lambda: print('a'), lambda: print('b'))"
   ]
  },
  {
   "cell_type": "code",
   "execution_count": 10,
   "id": "20145667",
   "metadata": {
    "execution": {
     "iopub.execute_input": "2022-06-22T17:01:24.212554Z",
     "iopub.status.busy": "2022-06-22T17:01:24.211801Z",
     "iopub.status.idle": "2022-06-22T17:01:24.217123Z",
     "shell.execute_reply": "2022-06-22T17:01:24.216425Z"
    },
    "papermill": {
     "duration": 0.446007,
     "end_time": "2022-06-22T17:01:24.219398",
     "exception": false,
     "start_time": "2022-06-22T17:01:23.773391",
     "status": "completed"
    },
    "tags": []
   },
   "outputs": [],
   "source": [
    "# import youtube_dl\n",
    "\n",
    "# try:\n",
    "#     %pushd Music\n",
    "#     def make_fn(vid_links):\n",
    "#         def runnable():\n",
    "#             ytdl_opts= {\n",
    "#                         'format': 'bestaudio/best',\n",
    "#                         'postprocessors': [{\n",
    "#                             'key': 'FFmpegExtractAudio',\n",
    "#                             'preferredcodec': 'mp3',\n",
    "#                             'preferredquality': '192',\n",
    "#                         }],\n",
    "#                       }\n",
    "#             ydl_opts = {}\n",
    "#             with youtube_dl.YoutubeDL(ydl_opts) as ydl:\n",
    "#                 ydl.download(vid_links)\n",
    "#         return runnable\n",
    "#     from itertools import islice\n",
    "#     def chunk(it, size):\n",
    "#         it = iter(it)\n",
    "#         return iter(lambda: tuple(islice(it, size)), ())\n",
    "\n",
    "#     link_chunks = list(chunk(vid_links, CORES))\n",
    "#     runnables = [make_fn(chunk) for chunk in link_chunks]\n",
    "#     runInParallel(*runnables)\n",
    "# finally:\n",
    "#     %popd"
   ]
  }
 ],
 "metadata": {
  "kernelspec": {
   "display_name": "Python 3 (ipykernel)",
   "language": "python",
   "name": "python3"
  },
  "language_info": {
   "codemirror_mode": {
    "name": "ipython",
    "version": 3
   },
   "file_extension": ".py",
   "mimetype": "text/x-python",
   "name": "python",
   "nbconvert_exporter": "python",
   "pygments_lexer": "ipython3",
   "version": "3.8.13"
  },
  "papermill": {
   "default_parameters": {},
   "duration": 7994.519421,
   "end_time": "2022-06-22T17:01:27.295701",
   "environment_variables": {},
   "exception": null,
   "input_path": "__notebook__.ipynb",
   "output_path": "__notebook__.ipynb",
   "parameters": {},
   "start_time": "2022-06-22T14:48:12.776280",
   "version": "2.3.4"
  }
 },
 "nbformat": 4,
 "nbformat_minor": 5
}
